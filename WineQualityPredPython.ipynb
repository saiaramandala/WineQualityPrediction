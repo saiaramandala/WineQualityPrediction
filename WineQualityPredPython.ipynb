{
 "cells": [
  {
   "cell_type": "markdown",
   "id": "7af2b762",
   "metadata": {},
   "source": [
    "# WINE QUALITY PREDICTION \n",
    "\n",
    "The data was downloaded from UCI Machine Learning Repository. This dataset consists of red and white variants of the Portuguese \"Vinho Verde\" wine.The dataset describes the amount of various chemicals present in wine and their effect on it's quality. The datasets can be viewed as classification or regression tasks. The classes are ordered and not balanced (e.g. there are much more normal wines than excellent or poor ones).Our task is to predict the quality of wine using the given data. \n",
    "\n",
    "What are the factors that affect the quality of wine?\n",
    "\n",
    "Wine quality depends on a lot of factors like alcohol content,presence of sulphates,its pH values etc. The taste,smell and potency of the wine is defined by its chemical ingredients and its percentages in wines.\n",
    "\n",
    "We will perform following tasks in our notebook:\n",
    "\n",
    "1. Data Exploration (Understanding the dataset)\n",
    "2. Data Wrangling (Data cleaning and Data Manipulation)\n",
    "3. Data visualization\n",
    "4. Data Exploratory Analysis\n",
    "5. Analysis of quality with other factors (correlation)\n",
    "6. Data Modeling (Machine Learning Models)\n",
    "7. Building a classification \n",
    "8. Predict the outcome\n",
    "9. Calculating the accuracy score\n",
    "10. Findings and Results\n",
    "\n",
    "\n",
    "\n",
    "\n",
    "Group Members :\n",
    "\n",
    "Nidhi Yaduvanshi, \n",
    "Sai Shiva Ramakrishna Prasad. Aramandala, \n",
    "Pallabi Das, and \n",
    "Trishita Aditya"
   ]
  },
  {
   "cell_type": "code",
   "execution_count": 2,
   "id": "3c991813",
   "metadata": {
    "_cell_guid": "b1076dfc-b9ad-4769-8c92-a6c4dae69d19",
    "_uuid": "8f2839f25d086af736a60e9eeb907d3b93b6e0e5",
    "execution": {
     "iopub.execute_input": "2021-10-23T08:18:40.216628Z",
     "iopub.status.busy": "2021-10-23T08:18:40.214806Z",
     "iopub.status.idle": "2021-10-23T08:18:40.237604Z",
     "shell.execute_reply": "2021-10-23T08:18:40.238152Z",
     "shell.execute_reply.started": "2021-10-23T08:17:37.936054Z"
    },
    "papermill": {
     "duration": 0.045402,
     "end_time": "2021-10-23T08:18:40.238501",
     "exception": false,
     "start_time": "2021-10-23T08:18:40.193099",
     "status": "completed"
    },
    "tags": []
   },
   "outputs": [],
   "source": [
    "# This Python 3 environment comes with many helpful analytics libraries installed\n",
    "\n",
    "# importing libraries for data analysis and data manipulation\n",
    "\n",
    "import numpy as np # linear algebra\n",
    "import pandas as pd # data processing, CSV file I/O (e.g. pd.read_csv)\n",
    "\n",
    "# loading the libraries for creating the plot\n",
    "\n",
    "import matplotlib.pyplot as plt\n",
    "import seaborn as sb\n",
    "import math"
   ]
  },
  {
   "cell_type": "code",
   "execution_count": 3,
   "id": "79a33a3a",
   "metadata": {
    "execution": {
     "iopub.execute_input": "2021-10-23T08:18:41.430207Z",
     "iopub.status.busy": "2021-10-23T08:18:41.427981Z",
     "iopub.status.idle": "2021-10-23T08:18:41.462866Z",
     "shell.execute_reply": "2021-10-23T08:18:41.463462Z",
     "shell.execute_reply.started": "2021-10-23T08:17:39.207470Z"
    },
    "papermill": {
     "duration": 0.052821,
     "end_time": "2021-10-23T08:18:41.463667",
     "exception": false,
     "start_time": "2021-10-23T08:18:41.410846",
     "status": "completed"
    },
    "tags": []
   },
   "outputs": [
    {
     "data": {
      "text/html": [
       "<div>\n",
       "<style scoped>\n",
       "    .dataframe tbody tr th:only-of-type {\n",
       "        vertical-align: middle;\n",
       "    }\n",
       "\n",
       "    .dataframe tbody tr th {\n",
       "        vertical-align: top;\n",
       "    }\n",
       "\n",
       "    .dataframe thead th {\n",
       "        text-align: right;\n",
       "    }\n",
       "</style>\n",
       "<table border=\"1\" class=\"dataframe\">\n",
       "  <thead>\n",
       "    <tr style=\"text-align: right;\">\n",
       "      <th></th>\n",
       "      <th>type</th>\n",
       "      <th>fixed acidity</th>\n",
       "      <th>volatile acidity</th>\n",
       "      <th>citric acid</th>\n",
       "      <th>residual sugar</th>\n",
       "      <th>chlorides</th>\n",
       "      <th>free sulfur dioxide</th>\n",
       "      <th>total sulfur dioxide</th>\n",
       "      <th>density</th>\n",
       "      <th>pH</th>\n",
       "      <th>sulphates</th>\n",
       "      <th>alcohol</th>\n",
       "      <th>quality</th>\n",
       "    </tr>\n",
       "  </thead>\n",
       "  <tbody>\n",
       "    <tr>\n",
       "      <th>0</th>\n",
       "      <td>white</td>\n",
       "      <td>7.0</td>\n",
       "      <td>0.270</td>\n",
       "      <td>0.36</td>\n",
       "      <td>20.7</td>\n",
       "      <td>0.045</td>\n",
       "      <td>45.0</td>\n",
       "      <td>170.0</td>\n",
       "      <td>1.00100</td>\n",
       "      <td>3.00</td>\n",
       "      <td>0.45</td>\n",
       "      <td>8.8</td>\n",
       "      <td>6</td>\n",
       "    </tr>\n",
       "    <tr>\n",
       "      <th>1</th>\n",
       "      <td>white</td>\n",
       "      <td>6.3</td>\n",
       "      <td>0.300</td>\n",
       "      <td>0.34</td>\n",
       "      <td>1.6</td>\n",
       "      <td>0.049</td>\n",
       "      <td>14.0</td>\n",
       "      <td>132.0</td>\n",
       "      <td>0.99400</td>\n",
       "      <td>3.30</td>\n",
       "      <td>0.49</td>\n",
       "      <td>9.5</td>\n",
       "      <td>6</td>\n",
       "    </tr>\n",
       "    <tr>\n",
       "      <th>2</th>\n",
       "      <td>white</td>\n",
       "      <td>8.1</td>\n",
       "      <td>0.280</td>\n",
       "      <td>0.40</td>\n",
       "      <td>6.9</td>\n",
       "      <td>0.050</td>\n",
       "      <td>30.0</td>\n",
       "      <td>97.0</td>\n",
       "      <td>0.99510</td>\n",
       "      <td>3.26</td>\n",
       "      <td>0.44</td>\n",
       "      <td>10.1</td>\n",
       "      <td>6</td>\n",
       "    </tr>\n",
       "    <tr>\n",
       "      <th>3</th>\n",
       "      <td>white</td>\n",
       "      <td>7.2</td>\n",
       "      <td>0.230</td>\n",
       "      <td>0.32</td>\n",
       "      <td>8.5</td>\n",
       "      <td>0.058</td>\n",
       "      <td>47.0</td>\n",
       "      <td>186.0</td>\n",
       "      <td>0.99560</td>\n",
       "      <td>3.19</td>\n",
       "      <td>0.40</td>\n",
       "      <td>9.9</td>\n",
       "      <td>6</td>\n",
       "    </tr>\n",
       "    <tr>\n",
       "      <th>4</th>\n",
       "      <td>white</td>\n",
       "      <td>7.2</td>\n",
       "      <td>0.230</td>\n",
       "      <td>0.32</td>\n",
       "      <td>8.5</td>\n",
       "      <td>0.058</td>\n",
       "      <td>47.0</td>\n",
       "      <td>186.0</td>\n",
       "      <td>0.99560</td>\n",
       "      <td>3.19</td>\n",
       "      <td>0.40</td>\n",
       "      <td>9.9</td>\n",
       "      <td>6</td>\n",
       "    </tr>\n",
       "    <tr>\n",
       "      <th>...</th>\n",
       "      <td>...</td>\n",
       "      <td>...</td>\n",
       "      <td>...</td>\n",
       "      <td>...</td>\n",
       "      <td>...</td>\n",
       "      <td>...</td>\n",
       "      <td>...</td>\n",
       "      <td>...</td>\n",
       "      <td>...</td>\n",
       "      <td>...</td>\n",
       "      <td>...</td>\n",
       "      <td>...</td>\n",
       "      <td>...</td>\n",
       "    </tr>\n",
       "    <tr>\n",
       "      <th>6492</th>\n",
       "      <td>red</td>\n",
       "      <td>6.2</td>\n",
       "      <td>0.600</td>\n",
       "      <td>0.08</td>\n",
       "      <td>2.0</td>\n",
       "      <td>0.090</td>\n",
       "      <td>32.0</td>\n",
       "      <td>44.0</td>\n",
       "      <td>0.99490</td>\n",
       "      <td>3.45</td>\n",
       "      <td>0.58</td>\n",
       "      <td>10.5</td>\n",
       "      <td>5</td>\n",
       "    </tr>\n",
       "    <tr>\n",
       "      <th>6493</th>\n",
       "      <td>red</td>\n",
       "      <td>5.9</td>\n",
       "      <td>0.550</td>\n",
       "      <td>0.10</td>\n",
       "      <td>2.2</td>\n",
       "      <td>0.062</td>\n",
       "      <td>39.0</td>\n",
       "      <td>51.0</td>\n",
       "      <td>0.99512</td>\n",
       "      <td>3.52</td>\n",
       "      <td>NaN</td>\n",
       "      <td>11.2</td>\n",
       "      <td>6</td>\n",
       "    </tr>\n",
       "    <tr>\n",
       "      <th>6494</th>\n",
       "      <td>red</td>\n",
       "      <td>6.3</td>\n",
       "      <td>0.510</td>\n",
       "      <td>0.13</td>\n",
       "      <td>2.3</td>\n",
       "      <td>0.076</td>\n",
       "      <td>29.0</td>\n",
       "      <td>40.0</td>\n",
       "      <td>0.99574</td>\n",
       "      <td>3.42</td>\n",
       "      <td>0.75</td>\n",
       "      <td>11.0</td>\n",
       "      <td>6</td>\n",
       "    </tr>\n",
       "    <tr>\n",
       "      <th>6495</th>\n",
       "      <td>red</td>\n",
       "      <td>5.9</td>\n",
       "      <td>0.645</td>\n",
       "      <td>0.12</td>\n",
       "      <td>2.0</td>\n",
       "      <td>0.075</td>\n",
       "      <td>32.0</td>\n",
       "      <td>44.0</td>\n",
       "      <td>0.99547</td>\n",
       "      <td>3.57</td>\n",
       "      <td>0.71</td>\n",
       "      <td>10.2</td>\n",
       "      <td>5</td>\n",
       "    </tr>\n",
       "    <tr>\n",
       "      <th>6496</th>\n",
       "      <td>red</td>\n",
       "      <td>6.0</td>\n",
       "      <td>0.310</td>\n",
       "      <td>0.47</td>\n",
       "      <td>3.6</td>\n",
       "      <td>0.067</td>\n",
       "      <td>18.0</td>\n",
       "      <td>42.0</td>\n",
       "      <td>0.99549</td>\n",
       "      <td>3.39</td>\n",
       "      <td>0.66</td>\n",
       "      <td>11.0</td>\n",
       "      <td>6</td>\n",
       "    </tr>\n",
       "  </tbody>\n",
       "</table>\n",
       "<p>6497 rows × 13 columns</p>\n",
       "</div>"
      ],
      "text/plain": [
       "       type  fixed acidity  volatile acidity  citric acid  residual sugar  \\\n",
       "0     white            7.0             0.270         0.36            20.7   \n",
       "1     white            6.3             0.300         0.34             1.6   \n",
       "2     white            8.1             0.280         0.40             6.9   \n",
       "3     white            7.2             0.230         0.32             8.5   \n",
       "4     white            7.2             0.230         0.32             8.5   \n",
       "...     ...            ...               ...          ...             ...   \n",
       "6492    red            6.2             0.600         0.08             2.0   \n",
       "6493    red            5.9             0.550         0.10             2.2   \n",
       "6494    red            6.3             0.510         0.13             2.3   \n",
       "6495    red            5.9             0.645         0.12             2.0   \n",
       "6496    red            6.0             0.310         0.47             3.6   \n",
       "\n",
       "      chlorides  free sulfur dioxide  total sulfur dioxide  density    pH  \\\n",
       "0         0.045                 45.0                 170.0  1.00100  3.00   \n",
       "1         0.049                 14.0                 132.0  0.99400  3.30   \n",
       "2         0.050                 30.0                  97.0  0.99510  3.26   \n",
       "3         0.058                 47.0                 186.0  0.99560  3.19   \n",
       "4         0.058                 47.0                 186.0  0.99560  3.19   \n",
       "...         ...                  ...                   ...      ...   ...   \n",
       "6492      0.090                 32.0                  44.0  0.99490  3.45   \n",
       "6493      0.062                 39.0                  51.0  0.99512  3.52   \n",
       "6494      0.076                 29.0                  40.0  0.99574  3.42   \n",
       "6495      0.075                 32.0                  44.0  0.99547  3.57   \n",
       "6496      0.067                 18.0                  42.0  0.99549  3.39   \n",
       "\n",
       "      sulphates  alcohol  quality  \n",
       "0          0.45      8.8        6  \n",
       "1          0.49      9.5        6  \n",
       "2          0.44     10.1        6  \n",
       "3          0.40      9.9        6  \n",
       "4          0.40      9.9        6  \n",
       "...         ...      ...      ...  \n",
       "6492       0.58     10.5        5  \n",
       "6493        NaN     11.2        6  \n",
       "6494       0.75     11.0        6  \n",
       "6495       0.71     10.2        5  \n",
       "6496       0.66     11.0        6  \n",
       "\n",
       "[6497 rows x 13 columns]"
      ]
     },
     "execution_count": 3,
     "metadata": {},
     "output_type": "execute_result"
    }
   ],
   "source": [
    "# import the dataset from our local machine\n",
    "Winedata = pd.read_csv(\"C:\\\\Users\\\\nidhi\\\\Downloads\\\\winequalityN.csv\")\n",
    "Winedata"
   ]
  },
  {
   "cell_type": "code",
   "execution_count": 7,
   "id": "af0058b6",
   "metadata": {
    "execution": {
     "iopub.execute_input": "2021-10-23T08:18:41.497588Z",
     "iopub.status.busy": "2021-10-23T08:18:41.496505Z",
     "iopub.status.idle": "2021-10-23T08:18:41.505427Z",
     "shell.execute_reply": "2021-10-23T08:18:41.504862Z",
     "shell.execute_reply.started": "2021-10-23T08:17:39.245166Z"
    },
    "papermill": {
     "duration": 0.02638,
     "end_time": "2021-10-23T08:18:41.505581",
     "exception": false,
     "start_time": "2021-10-23T08:18:41.479201",
     "status": "completed"
    },
    "tags": []
   },
   "outputs": [
    {
     "data": {
      "text/plain": [
       "(6497, 13)"
      ]
     },
     "execution_count": 7,
     "metadata": {},
     "output_type": "execute_result"
    }
   ],
   "source": [
    "# to see the number of rows and columns in our dataset\n",
    "Winedata.shape"
   ]
  },
  {
   "cell_type": "code",
   "execution_count": 8,
   "id": "44004360",
   "metadata": {},
   "outputs": [
    {
     "data": {
      "text/plain": [
       "Index(['type', 'fixed acidity', 'volatile acidity', 'citric acid',\n",
       "       'residual sugar', 'chlorides', 'free sulfur dioxide',\n",
       "       'total sulfur dioxide', 'density', 'pH', 'sulphates', 'alcohol',\n",
       "       'quality'],\n",
       "      dtype='object')"
      ]
     },
     "execution_count": 8,
     "metadata": {},
     "output_type": "execute_result"
    }
   ],
   "source": [
    "Winedata.columns"
   ]
  },
  {
   "cell_type": "markdown",
   "id": "e9ca2993",
   "metadata": {},
   "source": [
    "Understanding the wine data columns\n",
    "1. fixed acidity\n",
    "most acids involved with wine or fixed or nonvolatile (do not evaporate readily)\n",
    "\n",
    "2. volatile acidity\n",
    "the amount of acetic acid in wine, which at too high of levels can lead to an unpleasant, vinegar taste\n",
    "\n",
    "3. citric acid\n",
    "found in small quantities, citric acid can add ‘freshness’ and flavor to wines\n",
    "\n",
    "4. residual sugar\n",
    "the amount of sugar remaining after fermentation stops, it’s rare to find wines with less than 1 gram/liter and wines with greater than 45 grams/liter are considered sweet\n",
    "\n",
    "5. chlorides\n",
    "the amount of salt in the wine\n",
    "\n",
    "6. free sulfur dioxide\n",
    "the free form of SO2 exists in equilibrium between molecular SO2 (as a dissolved gas) and bisul-fite ion; it prevents microbial growth and the oxidation of wine\n",
    "\n",
    "7. total sulfur dioxide\n",
    "amount of free and bound forms of S02; in low concentrations, SO2 is mostly undetectable in wine, but at free SO2 concentrations over 50 ppm, SO2 becomes evident in the nose and taste of wine\n",
    "\n",
    "8. density\n",
    "the density of water is close to that of water depending on the percent alcohol and sugar con-tent\n",
    "\n",
    "9. pH\n",
    "describes how acidic or basic a wine is on a scale from 0 (very acidic) to 14 (very basic); most wines are between 3–4 on the pH scale\n",
    "\n",
    "10. sulphates\n",
    "a wine additive which can contribute to sulfur dioxide gas (S02) levels, which acts as an antimicrobial and antioxidant\n",
    "\n",
    "11. alcohol\n",
    "the percent alcohol content of the wine\n",
    "\n",
    "12. quality\n",
    "output variable (based on sensory data, score between 0 and 10)\n",
    "\n",
    "13. type\n",
    "This column will show the type of the wine whether it's a red wine or white wine\n"
   ]
  },
  {
   "cell_type": "code",
   "execution_count": 9,
   "id": "f6f6b866",
   "metadata": {},
   "outputs": [
    {
     "data": {
      "text/html": [
       "<div>\n",
       "<style scoped>\n",
       "    .dataframe tbody tr th:only-of-type {\n",
       "        vertical-align: middle;\n",
       "    }\n",
       "\n",
       "    .dataframe tbody tr th {\n",
       "        vertical-align: top;\n",
       "    }\n",
       "\n",
       "    .dataframe thead th {\n",
       "        text-align: right;\n",
       "    }\n",
       "</style>\n",
       "<table border=\"1\" class=\"dataframe\">\n",
       "  <thead>\n",
       "    <tr style=\"text-align: right;\">\n",
       "      <th></th>\n",
       "      <th>type</th>\n",
       "      <th>fixed acidity</th>\n",
       "      <th>volatile acidity</th>\n",
       "      <th>citric acid</th>\n",
       "      <th>residual sugar</th>\n",
       "      <th>chlorides</th>\n",
       "      <th>free sulfur dioxide</th>\n",
       "      <th>total sulfur dioxide</th>\n",
       "      <th>density</th>\n",
       "      <th>pH</th>\n",
       "      <th>sulphates</th>\n",
       "      <th>alcohol</th>\n",
       "      <th>quality</th>\n",
       "    </tr>\n",
       "  </thead>\n",
       "  <tbody>\n",
       "    <tr>\n",
       "      <th>1960</th>\n",
       "      <td>white</td>\n",
       "      <td>8.5</td>\n",
       "      <td>0.17</td>\n",
       "      <td>0.31</td>\n",
       "      <td>1.0</td>\n",
       "      <td>0.024</td>\n",
       "      <td>13.0</td>\n",
       "      <td>91.0</td>\n",
       "      <td>0.99300</td>\n",
       "      <td>2.79</td>\n",
       "      <td>0.37</td>\n",
       "      <td>10.1</td>\n",
       "      <td>5</td>\n",
       "    </tr>\n",
       "    <tr>\n",
       "      <th>1590</th>\n",
       "      <td>white</td>\n",
       "      <td>7.9</td>\n",
       "      <td>0.14</td>\n",
       "      <td>0.74</td>\n",
       "      <td>1.2</td>\n",
       "      <td>0.028</td>\n",
       "      <td>30.0</td>\n",
       "      <td>165.0</td>\n",
       "      <td>0.99100</td>\n",
       "      <td>3.08</td>\n",
       "      <td>0.82</td>\n",
       "      <td>12.3</td>\n",
       "      <td>6</td>\n",
       "    </tr>\n",
       "    <tr>\n",
       "      <th>4728</th>\n",
       "      <td>white</td>\n",
       "      <td>7.2</td>\n",
       "      <td>0.21</td>\n",
       "      <td>0.31</td>\n",
       "      <td>10.5</td>\n",
       "      <td>0.035</td>\n",
       "      <td>36.0</td>\n",
       "      <td>122.0</td>\n",
       "      <td>0.99478</td>\n",
       "      <td>3.12</td>\n",
       "      <td>0.40</td>\n",
       "      <td>10.6</td>\n",
       "      <td>6</td>\n",
       "    </tr>\n",
       "    <tr>\n",
       "      <th>5998</th>\n",
       "      <td>red</td>\n",
       "      <td>8.4</td>\n",
       "      <td>0.34</td>\n",
       "      <td>0.42</td>\n",
       "      <td>2.1</td>\n",
       "      <td>0.072</td>\n",
       "      <td>23.0</td>\n",
       "      <td>36.0</td>\n",
       "      <td>0.99392</td>\n",
       "      <td>3.11</td>\n",
       "      <td>0.78</td>\n",
       "      <td>12.4</td>\n",
       "      <td>6</td>\n",
       "    </tr>\n",
       "    <tr>\n",
       "      <th>742</th>\n",
       "      <td>white</td>\n",
       "      <td>7.0</td>\n",
       "      <td>0.20</td>\n",
       "      <td>0.37</td>\n",
       "      <td>2.0</td>\n",
       "      <td>0.030</td>\n",
       "      <td>26.0</td>\n",
       "      <td>136.0</td>\n",
       "      <td>0.99320</td>\n",
       "      <td>3.28</td>\n",
       "      <td>0.61</td>\n",
       "      <td>10.2</td>\n",
       "      <td>6</td>\n",
       "    </tr>\n",
       "    <tr>\n",
       "      <th>2458</th>\n",
       "      <td>white</td>\n",
       "      <td>7.8</td>\n",
       "      <td>0.32</td>\n",
       "      <td>0.33</td>\n",
       "      <td>10.4</td>\n",
       "      <td>0.031</td>\n",
       "      <td>47.0</td>\n",
       "      <td>194.0</td>\n",
       "      <td>0.99692</td>\n",
       "      <td>3.07</td>\n",
       "      <td>0.58</td>\n",
       "      <td>9.6</td>\n",
       "      <td>6</td>\n",
       "    </tr>\n",
       "    <tr>\n",
       "      <th>3439</th>\n",
       "      <td>white</td>\n",
       "      <td>6.7</td>\n",
       "      <td>0.40</td>\n",
       "      <td>0.22</td>\n",
       "      <td>8.8</td>\n",
       "      <td>0.052</td>\n",
       "      <td>24.0</td>\n",
       "      <td>113.0</td>\n",
       "      <td>0.99576</td>\n",
       "      <td>3.22</td>\n",
       "      <td>0.45</td>\n",
       "      <td>9.4</td>\n",
       "      <td>5</td>\n",
       "    </tr>\n",
       "    <tr>\n",
       "      <th>6027</th>\n",
       "      <td>red</td>\n",
       "      <td>10.5</td>\n",
       "      <td>0.43</td>\n",
       "      <td>0.35</td>\n",
       "      <td>3.3</td>\n",
       "      <td>0.092</td>\n",
       "      <td>24.0</td>\n",
       "      <td>70.0</td>\n",
       "      <td>0.99798</td>\n",
       "      <td>3.21</td>\n",
       "      <td>0.69</td>\n",
       "      <td>10.5</td>\n",
       "      <td>6</td>\n",
       "    </tr>\n",
       "  </tbody>\n",
       "</table>\n",
       "</div>"
      ],
      "text/plain": [
       "       type  fixed acidity  volatile acidity  citric acid  residual sugar  \\\n",
       "1960  white            8.5              0.17         0.31             1.0   \n",
       "1590  white            7.9              0.14         0.74             1.2   \n",
       "4728  white            7.2              0.21         0.31            10.5   \n",
       "5998    red            8.4              0.34         0.42             2.1   \n",
       "742   white            7.0              0.20         0.37             2.0   \n",
       "2458  white            7.8              0.32         0.33            10.4   \n",
       "3439  white            6.7              0.40         0.22             8.8   \n",
       "6027    red           10.5              0.43         0.35             3.3   \n",
       "\n",
       "      chlorides  free sulfur dioxide  total sulfur dioxide  density    pH  \\\n",
       "1960      0.024                 13.0                  91.0  0.99300  2.79   \n",
       "1590      0.028                 30.0                 165.0  0.99100  3.08   \n",
       "4728      0.035                 36.0                 122.0  0.99478  3.12   \n",
       "5998      0.072                 23.0                  36.0  0.99392  3.11   \n",
       "742       0.030                 26.0                 136.0  0.99320  3.28   \n",
       "2458      0.031                 47.0                 194.0  0.99692  3.07   \n",
       "3439      0.052                 24.0                 113.0  0.99576  3.22   \n",
       "6027      0.092                 24.0                  70.0  0.99798  3.21   \n",
       "\n",
       "      sulphates  alcohol  quality  \n",
       "1960       0.37     10.1        5  \n",
       "1590       0.82     12.3        6  \n",
       "4728       0.40     10.6        6  \n",
       "5998       0.78     12.4        6  \n",
       "742        0.61     10.2        6  \n",
       "2458       0.58      9.6        6  \n",
       "3439       0.45      9.4        5  \n",
       "6027       0.69     10.5        6  "
      ]
     },
     "execution_count": 9,
     "metadata": {},
     "output_type": "execute_result"
    }
   ],
   "source": [
    "# to view any random sample of 8 rows\n",
    "Winedata.sample(8)"
   ]
  },
  {
   "cell_type": "code",
   "execution_count": 10,
   "id": "31b45d63",
   "metadata": {
    "execution": {
     "iopub.execute_input": "2021-10-23T08:18:41.542868Z",
     "iopub.status.busy": "2021-10-23T08:18:41.542058Z",
     "iopub.status.idle": "2021-10-23T08:18:41.569556Z",
     "shell.execute_reply": "2021-10-23T08:18:41.568866Z",
     "shell.execute_reply.started": "2021-10-23T08:17:39.256172Z"
    },
    "papermill": {
     "duration": 0.049716,
     "end_time": "2021-10-23T08:18:41.569709",
     "exception": false,
     "start_time": "2021-10-23T08:18:41.519993",
     "status": "completed"
    },
    "tags": []
   },
   "outputs": [
    {
     "data": {
      "text/html": [
       "<div>\n",
       "<style scoped>\n",
       "    .dataframe tbody tr th:only-of-type {\n",
       "        vertical-align: middle;\n",
       "    }\n",
       "\n",
       "    .dataframe tbody tr th {\n",
       "        vertical-align: top;\n",
       "    }\n",
       "\n",
       "    .dataframe thead th {\n",
       "        text-align: right;\n",
       "    }\n",
       "</style>\n",
       "<table border=\"1\" class=\"dataframe\">\n",
       "  <thead>\n",
       "    <tr style=\"text-align: right;\">\n",
       "      <th></th>\n",
       "      <th>type</th>\n",
       "      <th>fixed acidity</th>\n",
       "      <th>volatile acidity</th>\n",
       "      <th>citric acid</th>\n",
       "      <th>residual sugar</th>\n",
       "      <th>chlorides</th>\n",
       "      <th>free sulfur dioxide</th>\n",
       "      <th>total sulfur dioxide</th>\n",
       "      <th>density</th>\n",
       "      <th>pH</th>\n",
       "      <th>sulphates</th>\n",
       "      <th>alcohol</th>\n",
       "      <th>quality</th>\n",
       "    </tr>\n",
       "  </thead>\n",
       "  <tbody>\n",
       "    <tr>\n",
       "      <th>0</th>\n",
       "      <td>white</td>\n",
       "      <td>7.0</td>\n",
       "      <td>0.27</td>\n",
       "      <td>0.36</td>\n",
       "      <td>20.7</td>\n",
       "      <td>0.045</td>\n",
       "      <td>45.0</td>\n",
       "      <td>170.0</td>\n",
       "      <td>1.0010</td>\n",
       "      <td>3.00</td>\n",
       "      <td>0.45</td>\n",
       "      <td>8.8</td>\n",
       "      <td>6</td>\n",
       "    </tr>\n",
       "    <tr>\n",
       "      <th>1</th>\n",
       "      <td>white</td>\n",
       "      <td>6.3</td>\n",
       "      <td>0.30</td>\n",
       "      <td>0.34</td>\n",
       "      <td>1.6</td>\n",
       "      <td>0.049</td>\n",
       "      <td>14.0</td>\n",
       "      <td>132.0</td>\n",
       "      <td>0.9940</td>\n",
       "      <td>3.30</td>\n",
       "      <td>0.49</td>\n",
       "      <td>9.5</td>\n",
       "      <td>6</td>\n",
       "    </tr>\n",
       "    <tr>\n",
       "      <th>2</th>\n",
       "      <td>white</td>\n",
       "      <td>8.1</td>\n",
       "      <td>0.28</td>\n",
       "      <td>0.40</td>\n",
       "      <td>6.9</td>\n",
       "      <td>0.050</td>\n",
       "      <td>30.0</td>\n",
       "      <td>97.0</td>\n",
       "      <td>0.9951</td>\n",
       "      <td>3.26</td>\n",
       "      <td>0.44</td>\n",
       "      <td>10.1</td>\n",
       "      <td>6</td>\n",
       "    </tr>\n",
       "    <tr>\n",
       "      <th>3</th>\n",
       "      <td>white</td>\n",
       "      <td>7.2</td>\n",
       "      <td>0.23</td>\n",
       "      <td>0.32</td>\n",
       "      <td>8.5</td>\n",
       "      <td>0.058</td>\n",
       "      <td>47.0</td>\n",
       "      <td>186.0</td>\n",
       "      <td>0.9956</td>\n",
       "      <td>3.19</td>\n",
       "      <td>0.40</td>\n",
       "      <td>9.9</td>\n",
       "      <td>6</td>\n",
       "    </tr>\n",
       "    <tr>\n",
       "      <th>4</th>\n",
       "      <td>white</td>\n",
       "      <td>7.2</td>\n",
       "      <td>0.23</td>\n",
       "      <td>0.32</td>\n",
       "      <td>8.5</td>\n",
       "      <td>0.058</td>\n",
       "      <td>47.0</td>\n",
       "      <td>186.0</td>\n",
       "      <td>0.9956</td>\n",
       "      <td>3.19</td>\n",
       "      <td>0.40</td>\n",
       "      <td>9.9</td>\n",
       "      <td>6</td>\n",
       "    </tr>\n",
       "  </tbody>\n",
       "</table>\n",
       "</div>"
      ],
      "text/plain": [
       "    type  fixed acidity  volatile acidity  citric acid  residual sugar  \\\n",
       "0  white            7.0              0.27         0.36            20.7   \n",
       "1  white            6.3              0.30         0.34             1.6   \n",
       "2  white            8.1              0.28         0.40             6.9   \n",
       "3  white            7.2              0.23         0.32             8.5   \n",
       "4  white            7.2              0.23         0.32             8.5   \n",
       "\n",
       "   chlorides  free sulfur dioxide  total sulfur dioxide  density    pH  \\\n",
       "0      0.045                 45.0                 170.0   1.0010  3.00   \n",
       "1      0.049                 14.0                 132.0   0.9940  3.30   \n",
       "2      0.050                 30.0                  97.0   0.9951  3.26   \n",
       "3      0.058                 47.0                 186.0   0.9956  3.19   \n",
       "4      0.058                 47.0                 186.0   0.9956  3.19   \n",
       "\n",
       "   sulphates  alcohol  quality  \n",
       "0       0.45      8.8        6  \n",
       "1       0.49      9.5        6  \n",
       "2       0.44     10.1        6  \n",
       "3       0.40      9.9        6  \n",
       "4       0.40      9.9        6  "
      ]
     },
     "execution_count": 10,
     "metadata": {},
     "output_type": "execute_result"
    }
   ],
   "source": [
    "# let us try to see the first 5 lines of our data\n",
    "Winedata.head()\n"
   ]
  },
  {
   "cell_type": "code",
   "execution_count": 11,
   "id": "407cf600",
   "metadata": {},
   "outputs": [
    {
     "data": {
      "text/html": [
       "<div>\n",
       "<style scoped>\n",
       "    .dataframe tbody tr th:only-of-type {\n",
       "        vertical-align: middle;\n",
       "    }\n",
       "\n",
       "    .dataframe tbody tr th {\n",
       "        vertical-align: top;\n",
       "    }\n",
       "\n",
       "    .dataframe thead th {\n",
       "        text-align: right;\n",
       "    }\n",
       "</style>\n",
       "<table border=\"1\" class=\"dataframe\">\n",
       "  <thead>\n",
       "    <tr style=\"text-align: right;\">\n",
       "      <th></th>\n",
       "      <th>fixed acidity</th>\n",
       "      <th>volatile acidity</th>\n",
       "      <th>citric acid</th>\n",
       "      <th>residual sugar</th>\n",
       "      <th>chlorides</th>\n",
       "      <th>free sulfur dioxide</th>\n",
       "      <th>total sulfur dioxide</th>\n",
       "      <th>density</th>\n",
       "      <th>pH</th>\n",
       "      <th>sulphates</th>\n",
       "      <th>alcohol</th>\n",
       "      <th>quality</th>\n",
       "    </tr>\n",
       "  </thead>\n",
       "  <tbody>\n",
       "    <tr>\n",
       "      <th>count</th>\n",
       "      <td>6487.000000</td>\n",
       "      <td>6489.000000</td>\n",
       "      <td>6494.000000</td>\n",
       "      <td>6495.000000</td>\n",
       "      <td>6495.000000</td>\n",
       "      <td>6497.000000</td>\n",
       "      <td>6497.000000</td>\n",
       "      <td>6497.000000</td>\n",
       "      <td>6488.000000</td>\n",
       "      <td>6493.000000</td>\n",
       "      <td>6497.000000</td>\n",
       "      <td>6497.000000</td>\n",
       "    </tr>\n",
       "    <tr>\n",
       "      <th>mean</th>\n",
       "      <td>7.216579</td>\n",
       "      <td>0.339691</td>\n",
       "      <td>0.318722</td>\n",
       "      <td>5.444326</td>\n",
       "      <td>0.056042</td>\n",
       "      <td>30.525319</td>\n",
       "      <td>115.744574</td>\n",
       "      <td>0.994697</td>\n",
       "      <td>3.218395</td>\n",
       "      <td>0.531215</td>\n",
       "      <td>10.491801</td>\n",
       "      <td>5.818378</td>\n",
       "    </tr>\n",
       "    <tr>\n",
       "      <th>std</th>\n",
       "      <td>1.296750</td>\n",
       "      <td>0.164649</td>\n",
       "      <td>0.145265</td>\n",
       "      <td>4.758125</td>\n",
       "      <td>0.035036</td>\n",
       "      <td>17.749400</td>\n",
       "      <td>56.521855</td>\n",
       "      <td>0.002999</td>\n",
       "      <td>0.160748</td>\n",
       "      <td>0.148814</td>\n",
       "      <td>1.192712</td>\n",
       "      <td>0.873255</td>\n",
       "    </tr>\n",
       "    <tr>\n",
       "      <th>min</th>\n",
       "      <td>3.800000</td>\n",
       "      <td>0.080000</td>\n",
       "      <td>0.000000</td>\n",
       "      <td>0.600000</td>\n",
       "      <td>0.009000</td>\n",
       "      <td>1.000000</td>\n",
       "      <td>6.000000</td>\n",
       "      <td>0.987110</td>\n",
       "      <td>2.720000</td>\n",
       "      <td>0.220000</td>\n",
       "      <td>8.000000</td>\n",
       "      <td>3.000000</td>\n",
       "    </tr>\n",
       "    <tr>\n",
       "      <th>25%</th>\n",
       "      <td>6.400000</td>\n",
       "      <td>0.230000</td>\n",
       "      <td>0.250000</td>\n",
       "      <td>1.800000</td>\n",
       "      <td>0.038000</td>\n",
       "      <td>17.000000</td>\n",
       "      <td>77.000000</td>\n",
       "      <td>0.992340</td>\n",
       "      <td>3.110000</td>\n",
       "      <td>0.430000</td>\n",
       "      <td>9.500000</td>\n",
       "      <td>5.000000</td>\n",
       "    </tr>\n",
       "    <tr>\n",
       "      <th>50%</th>\n",
       "      <td>7.000000</td>\n",
       "      <td>0.290000</td>\n",
       "      <td>0.310000</td>\n",
       "      <td>3.000000</td>\n",
       "      <td>0.047000</td>\n",
       "      <td>29.000000</td>\n",
       "      <td>118.000000</td>\n",
       "      <td>0.994890</td>\n",
       "      <td>3.210000</td>\n",
       "      <td>0.510000</td>\n",
       "      <td>10.300000</td>\n",
       "      <td>6.000000</td>\n",
       "    </tr>\n",
       "    <tr>\n",
       "      <th>75%</th>\n",
       "      <td>7.700000</td>\n",
       "      <td>0.400000</td>\n",
       "      <td>0.390000</td>\n",
       "      <td>8.100000</td>\n",
       "      <td>0.065000</td>\n",
       "      <td>41.000000</td>\n",
       "      <td>156.000000</td>\n",
       "      <td>0.996990</td>\n",
       "      <td>3.320000</td>\n",
       "      <td>0.600000</td>\n",
       "      <td>11.300000</td>\n",
       "      <td>6.000000</td>\n",
       "    </tr>\n",
       "    <tr>\n",
       "      <th>max</th>\n",
       "      <td>15.900000</td>\n",
       "      <td>1.580000</td>\n",
       "      <td>1.660000</td>\n",
       "      <td>65.800000</td>\n",
       "      <td>0.611000</td>\n",
       "      <td>289.000000</td>\n",
       "      <td>440.000000</td>\n",
       "      <td>1.038980</td>\n",
       "      <td>4.010000</td>\n",
       "      <td>2.000000</td>\n",
       "      <td>14.900000</td>\n",
       "      <td>9.000000</td>\n",
       "    </tr>\n",
       "  </tbody>\n",
       "</table>\n",
       "</div>"
      ],
      "text/plain": [
       "       fixed acidity  volatile acidity  citric acid  residual sugar  \\\n",
       "count    6487.000000       6489.000000  6494.000000     6495.000000   \n",
       "mean        7.216579          0.339691     0.318722        5.444326   \n",
       "std         1.296750          0.164649     0.145265        4.758125   \n",
       "min         3.800000          0.080000     0.000000        0.600000   \n",
       "25%         6.400000          0.230000     0.250000        1.800000   \n",
       "50%         7.000000          0.290000     0.310000        3.000000   \n",
       "75%         7.700000          0.400000     0.390000        8.100000   \n",
       "max        15.900000          1.580000     1.660000       65.800000   \n",
       "\n",
       "         chlorides  free sulfur dioxide  total sulfur dioxide      density  \\\n",
       "count  6495.000000          6497.000000           6497.000000  6497.000000   \n",
       "mean      0.056042            30.525319            115.744574     0.994697   \n",
       "std       0.035036            17.749400             56.521855     0.002999   \n",
       "min       0.009000             1.000000              6.000000     0.987110   \n",
       "25%       0.038000            17.000000             77.000000     0.992340   \n",
       "50%       0.047000            29.000000            118.000000     0.994890   \n",
       "75%       0.065000            41.000000            156.000000     0.996990   \n",
       "max       0.611000           289.000000            440.000000     1.038980   \n",
       "\n",
       "                pH    sulphates      alcohol      quality  \n",
       "count  6488.000000  6493.000000  6497.000000  6497.000000  \n",
       "mean      3.218395     0.531215    10.491801     5.818378  \n",
       "std       0.160748     0.148814     1.192712     0.873255  \n",
       "min       2.720000     0.220000     8.000000     3.000000  \n",
       "25%       3.110000     0.430000     9.500000     5.000000  \n",
       "50%       3.210000     0.510000    10.300000     6.000000  \n",
       "75%       3.320000     0.600000    11.300000     6.000000  \n",
       "max       4.010000     2.000000    14.900000     9.000000  "
      ]
     },
     "execution_count": 11,
     "metadata": {},
     "output_type": "execute_result"
    }
   ],
   "source": [
    "# to see the descriptive statistics\n",
    "Winedata.describe()"
   ]
  },
  {
   "cell_type": "code",
   "execution_count": 12,
   "id": "329fff72",
   "metadata": {
    "execution": {
     "iopub.execute_input": "2021-10-23T08:18:41.604816Z",
     "iopub.status.busy": "2021-10-23T08:18:41.603783Z",
     "iopub.status.idle": "2021-10-23T08:18:41.629571Z",
     "shell.execute_reply": "2021-10-23T08:18:41.630239Z",
     "shell.execute_reply.started": "2021-10-23T08:17:39.295507Z"
    },
    "papermill": {
     "duration": 0.044619,
     "end_time": "2021-10-23T08:18:41.630449",
     "exception": false,
     "start_time": "2021-10-23T08:18:41.585830",
     "status": "completed"
    },
    "tags": []
   },
   "outputs": [
    {
     "name": "stdout",
     "output_type": "stream",
     "text": [
      "<class 'pandas.core.frame.DataFrame'>\n",
      "RangeIndex: 6497 entries, 0 to 6496\n",
      "Data columns (total 13 columns):\n",
      " #   Column                Non-Null Count  Dtype  \n",
      "---  ------                --------------  -----  \n",
      " 0   type                  6497 non-null   object \n",
      " 1   fixed acidity         6487 non-null   float64\n",
      " 2   volatile acidity      6489 non-null   float64\n",
      " 3   citric acid           6494 non-null   float64\n",
      " 4   residual sugar        6495 non-null   float64\n",
      " 5   chlorides             6495 non-null   float64\n",
      " 6   free sulfur dioxide   6497 non-null   float64\n",
      " 7   total sulfur dioxide  6497 non-null   float64\n",
      " 8   density               6497 non-null   float64\n",
      " 9   pH                    6488 non-null   float64\n",
      " 10  sulphates             6493 non-null   float64\n",
      " 11  alcohol               6497 non-null   float64\n",
      " 12  quality               6497 non-null   int64  \n",
      "dtypes: float64(11), int64(1), object(1)\n",
      "memory usage: 660.0+ KB\n"
     ]
    }
   ],
   "source": [
    "# let us check the data types of all the variables to get a better understanding of our data\n",
    "Winedata.info()"
   ]
  },
  {
   "cell_type": "code",
   "execution_count": 13,
   "id": "bce499c5",
   "metadata": {},
   "outputs": [
    {
     "data": {
      "text/plain": [
       "fixed acidity           1.722805\n",
       "volatile acidity        1.495512\n",
       "citric acid             0.473032\n",
       "residual sugar          1.435000\n",
       "chlorides               5.399849\n",
       "free sulfur dioxide     1.220066\n",
       "total sulfur dioxide   -0.001177\n",
       "density                 0.503602\n",
       "pH                      0.386966\n",
       "sulphates               1.798467\n",
       "alcohol                 0.565718\n",
       "quality                 0.189623\n",
       "dtype: float64"
      ]
     },
     "execution_count": 13,
     "metadata": {},
     "output_type": "execute_result"
    }
   ],
   "source": [
    "# to check skewness\n",
    "Winedata.skew()"
   ]
  },
  {
   "cell_type": "code",
   "execution_count": 14,
   "id": "33bba795",
   "metadata": {},
   "outputs": [
    {
     "data": {
      "text/plain": [
       "array([[<AxesSubplot:title={'center':'fixed acidity'}>,\n",
       "        <AxesSubplot:title={'center':'volatile acidity'}>,\n",
       "        <AxesSubplot:title={'center':'citric acid'}>,\n",
       "        <AxesSubplot:title={'center':'residual sugar'}>],\n",
       "       [<AxesSubplot:title={'center':'chlorides'}>,\n",
       "        <AxesSubplot:title={'center':'free sulfur dioxide'}>,\n",
       "        <AxesSubplot:title={'center':'total sulfur dioxide'}>,\n",
       "        <AxesSubplot:title={'center':'density'}>],\n",
       "       [<AxesSubplot:title={'center':'pH'}>,\n",
       "        <AxesSubplot:title={'center':'sulphates'}>,\n",
       "        <AxesSubplot:title={'center':'alcohol'}>,\n",
       "        <AxesSubplot:title={'center':'quality'}>],\n",
       "       [<AxesSubplot:>, <AxesSubplot:>, <AxesSubplot:>, <AxesSubplot:>]],\n",
       "      dtype=object)"
      ]
     },
     "execution_count": 14,
     "metadata": {},
     "output_type": "execute_result"
    },
    {
     "data": {
      "image/png": "[encoded data removed]",
      "text/plain": [
       "<Figure size 1080x1080 with 16 Axes>"
      ]
     },
     "metadata": {
      "needs_background": "light"
     },
     "output_type": "display_data"
    }
   ],
   "source": [
    "Winedata.hist(figsize=(15,15), layout=(4,4), bins=20)"
   ]
  },
  {
   "cell_type": "markdown",
   "id": "d6d96c6a",
   "metadata": {},
   "source": [
    "**Observation** from histogram:\n",
    "\n",
    "1. “fixed.acidity” is a measure of inside liquid concentration. \n",
    "    The histogram a right-skewed distributed with some outliers located at right side. \n",
    "    The most frequent values are between 7-8.\n",
    "2. “volatile.acidity” is measure of acidity above-surface of liquid. \n",
    "    The histogram is right-skewed distributed with some outliers located at right side.\n",
    "    The most frequent values are between 0.4-0.6.\n",
    "3. “citric.acid” is right-skewed distributed with some outliers located at very right side. \n",
    "    The most frequent values 0. It’s also interesting a lot of wine have citric.acid = 0\n",
    "4. “residual.sugar” is right-skewed distributed\n",
    "5. “chlorides” is right-skewed distributed \n",
    "    The most frequent values are between 0.05-0.1\n",
    "6. “free.sulfur.dioxide” is right-skewed distributed\n",
    "7. “sulphates” is a right-skewed distributed"
   ]
  },
  {
   "cell_type": "markdown",
   "id": "b995a526",
   "metadata": {},
   "source": [
    "# Data Pre-processing"
   ]
  },
  {
   "cell_type": "code",
   "execution_count": 15,
   "id": "e6797c27",
   "metadata": {},
   "outputs": [
    {
     "data": {
      "text/plain": [
       "0       False\n",
       "1       False\n",
       "2       False\n",
       "3       False\n",
       "4        True\n",
       "        ...  \n",
       "6492    False\n",
       "6493    False\n",
       "6494     True\n",
       "6495    False\n",
       "6496    False\n",
       "Length: 6497, dtype: bool"
      ]
     },
     "execution_count": 15,
     "metadata": {},
     "output_type": "execute_result"
    }
   ],
   "source": [
    "# to check for duplicates in the data\n",
    "Winedata.duplicated()\n"
   ]
  },
  {
   "cell_type": "code",
   "execution_count": 16,
   "id": "b97aa673",
   "metadata": {},
   "outputs": [
    {
     "data": {
      "text/plain": [
       "1168"
      ]
     },
     "execution_count": 16,
     "metadata": {},
     "output_type": "execute_result"
    }
   ],
   "source": [
    "#to check for the duplicate records in the dataset\n",
    "Winedata.duplicated().sum()"
   ]
  },
  {
   "cell_type": "code",
   "execution_count": 17,
   "id": "dccf475d",
   "metadata": {},
   "outputs": [
    {
     "data": {
      "text/plain": [
       "(6497, 13)"
      ]
     },
     "execution_count": 17,
     "metadata": {},
     "output_type": "execute_result"
    }
   ],
   "source": [
    "Winedata.shape"
   ]
  },
  {
   "cell_type": "code",
   "execution_count": 45,
   "id": "a302878e",
   "metadata": {},
   "outputs": [],
   "source": [
    "# to remove the duplicate records\n",
    "Winedata.drop_duplicates(inplace=True)"
   ]
  },
  {
   "cell_type": "code",
   "execution_count": 46,
   "id": "eb782cd7",
   "metadata": {},
   "outputs": [
    {
     "data": {
      "text/plain": [
       "(5329, 13)"
      ]
     },
     "execution_count": 46,
     "metadata": {},
     "output_type": "execute_result"
    }
   ],
   "source": [
    "Winedata.shape"
   ]
  },
  {
   "cell_type": "code",
   "execution_count": 47,
   "id": "9a3102cd",
   "metadata": {},
   "outputs": [
    {
     "data": {
      "text/plain": [
       "0"
      ]
     },
     "execution_count": 47,
     "metadata": {},
     "output_type": "execute_result"
    }
   ],
   "source": [
    "Winedata.duplicated().sum()"
   ]
  },
  {
   "cell_type": "code",
   "execution_count": 18,
   "id": "f2842f48",
   "metadata": {},
   "outputs": [
    {
     "data": {
      "text/html": [
       "<div>\n",
       "<style scoped>\n",
       "    .dataframe tbody tr th:only-of-type {\n",
       "        vertical-align: middle;\n",
       "    }\n",
       "\n",
       "    .dataframe tbody tr th {\n",
       "        vertical-align: top;\n",
       "    }\n",
       "\n",
       "    .dataframe thead th {\n",
       "        text-align: right;\n",
       "    }\n",
       "</style>\n",
       "<table border=\"1\" class=\"dataframe\">\n",
       "  <thead>\n",
       "    <tr style=\"text-align: right;\">\n",
       "      <th></th>\n",
       "      <th>type</th>\n",
       "      <th>fixed acidity</th>\n",
       "      <th>volatile acidity</th>\n",
       "      <th>citric acid</th>\n",
       "      <th>residual sugar</th>\n",
       "      <th>chlorides</th>\n",
       "      <th>free sulfur dioxide</th>\n",
       "      <th>total sulfur dioxide</th>\n",
       "      <th>density</th>\n",
       "      <th>pH</th>\n",
       "      <th>sulphates</th>\n",
       "      <th>alcohol</th>\n",
       "      <th>quality</th>\n",
       "    </tr>\n",
       "  </thead>\n",
       "  <tbody>\n",
       "    <tr>\n",
       "      <th>0</th>\n",
       "      <td>False</td>\n",
       "      <td>False</td>\n",
       "      <td>False</td>\n",
       "      <td>False</td>\n",
       "      <td>False</td>\n",
       "      <td>False</td>\n",
       "      <td>False</td>\n",
       "      <td>False</td>\n",
       "      <td>False</td>\n",
       "      <td>False</td>\n",
       "      <td>False</td>\n",
       "      <td>False</td>\n",
       "      <td>False</td>\n",
       "    </tr>\n",
       "    <tr>\n",
       "      <th>1</th>\n",
       "      <td>False</td>\n",
       "      <td>False</td>\n",
       "      <td>False</td>\n",
       "      <td>False</td>\n",
       "      <td>False</td>\n",
       "      <td>False</td>\n",
       "      <td>False</td>\n",
       "      <td>False</td>\n",
       "      <td>False</td>\n",
       "      <td>False</td>\n",
       "      <td>False</td>\n",
       "      <td>False</td>\n",
       "      <td>False</td>\n",
       "    </tr>\n",
       "    <tr>\n",
       "      <th>2</th>\n",
       "      <td>False</td>\n",
       "      <td>False</td>\n",
       "      <td>False</td>\n",
       "      <td>False</td>\n",
       "      <td>False</td>\n",
       "      <td>False</td>\n",
       "      <td>False</td>\n",
       "      <td>False</td>\n",
       "      <td>False</td>\n",
       "      <td>False</td>\n",
       "      <td>False</td>\n",
       "      <td>False</td>\n",
       "      <td>False</td>\n",
       "    </tr>\n",
       "    <tr>\n",
       "      <th>3</th>\n",
       "      <td>False</td>\n",
       "      <td>False</td>\n",
       "      <td>False</td>\n",
       "      <td>False</td>\n",
       "      <td>False</td>\n",
       "      <td>False</td>\n",
       "      <td>False</td>\n",
       "      <td>False</td>\n",
       "      <td>False</td>\n",
       "      <td>False</td>\n",
       "      <td>False</td>\n",
       "      <td>False</td>\n",
       "      <td>False</td>\n",
       "    </tr>\n",
       "    <tr>\n",
       "      <th>4</th>\n",
       "      <td>False</td>\n",
       "      <td>False</td>\n",
       "      <td>False</td>\n",
       "      <td>False</td>\n",
       "      <td>False</td>\n",
       "      <td>False</td>\n",
       "      <td>False</td>\n",
       "      <td>False</td>\n",
       "      <td>False</td>\n",
       "      <td>False</td>\n",
       "      <td>False</td>\n",
       "      <td>False</td>\n",
       "      <td>False</td>\n",
       "    </tr>\n",
       "    <tr>\n",
       "      <th>...</th>\n",
       "      <td>...</td>\n",
       "      <td>...</td>\n",
       "      <td>...</td>\n",
       "      <td>...</td>\n",
       "      <td>...</td>\n",
       "      <td>...</td>\n",
       "      <td>...</td>\n",
       "      <td>...</td>\n",
       "      <td>...</td>\n",
       "      <td>...</td>\n",
       "      <td>...</td>\n",
       "      <td>...</td>\n",
       "      <td>...</td>\n",
       "    </tr>\n",
       "    <tr>\n",
       "      <th>6492</th>\n",
       "      <td>False</td>\n",
       "      <td>False</td>\n",
       "      <td>False</td>\n",
       "      <td>False</td>\n",
       "      <td>False</td>\n",
       "      <td>False</td>\n",
       "      <td>False</td>\n",
       "      <td>False</td>\n",
       "      <td>False</td>\n",
       "      <td>False</td>\n",
       "      <td>False</td>\n",
       "      <td>False</td>\n",
       "      <td>False</td>\n",
       "    </tr>\n",
       "    <tr>\n",
       "      <th>6493</th>\n",
       "      <td>False</td>\n",
       "      <td>False</td>\n",
       "      <td>False</td>\n",
       "      <td>False</td>\n",
       "      <td>False</td>\n",
       "      <td>False</td>\n",
       "      <td>False</td>\n",
       "      <td>False</td>\n",
       "      <td>False</td>\n",
       "      <td>False</td>\n",
       "      <td>True</td>\n",
       "      <td>False</td>\n",
       "      <td>False</td>\n",
       "    </tr>\n",
       "    <tr>\n",
       "      <th>6494</th>\n",
       "      <td>False</td>\n",
       "      <td>False</td>\n",
       "      <td>False</td>\n",
       "      <td>False</td>\n",
       "      <td>False</td>\n",
       "      <td>False</td>\n",
       "      <td>False</td>\n",
       "      <td>False</td>\n",
       "      <td>False</td>\n",
       "      <td>False</td>\n",
       "      <td>False</td>\n",
       "      <td>False</td>\n",
       "      <td>False</td>\n",
       "    </tr>\n",
       "    <tr>\n",
       "      <th>6495</th>\n",
       "      <td>False</td>\n",
       "      <td>False</td>\n",
       "      <td>False</td>\n",
       "      <td>False</td>\n",
       "      <td>False</td>\n",
       "      <td>False</td>\n",
       "      <td>False</td>\n",
       "      <td>False</td>\n",
       "      <td>False</td>\n",
       "      <td>False</td>\n",
       "      <td>False</td>\n",
       "      <td>False</td>\n",
       "      <td>False</td>\n",
       "    </tr>\n",
       "    <tr>\n",
       "      <th>6496</th>\n",
       "      <td>False</td>\n",
       "      <td>False</td>\n",
       "      <td>False</td>\n",
       "      <td>False</td>\n",
       "      <td>False</td>\n",
       "      <td>False</td>\n",
       "      <td>False</td>\n",
       "      <td>False</td>\n",
       "      <td>False</td>\n",
       "      <td>False</td>\n",
       "      <td>False</td>\n",
       "      <td>False</td>\n",
       "      <td>False</td>\n",
       "    </tr>\n",
       "  </tbody>\n",
       "</table>\n",
       "<p>6497 rows × 13 columns</p>\n",
       "</div>"
      ],
      "text/plain": [
       "       type  fixed acidity  volatile acidity  citric acid  residual sugar  \\\n",
       "0     False          False             False        False           False   \n",
       "1     False          False             False        False           False   \n",
       "2     False          False             False        False           False   \n",
       "3     False          False             False        False           False   \n",
       "4     False          False             False        False           False   \n",
       "...     ...            ...               ...          ...             ...   \n",
       "6492  False          False             False        False           False   \n",
       "6493  False          False             False        False           False   \n",
       "6494  False          False             False        False           False   \n",
       "6495  False          False             False        False           False   \n",
       "6496  False          False             False        False           False   \n",
       "\n",
       "      chlorides  free sulfur dioxide  total sulfur dioxide  density     pH  \\\n",
       "0         False                False                 False    False  False   \n",
       "1         False                False                 False    False  False   \n",
       "2         False                False                 False    False  False   \n",
       "3         False                False                 False    False  False   \n",
       "4         False                False                 False    False  False   \n",
       "...         ...                  ...                   ...      ...    ...   \n",
       "6492      False                False                 False    False  False   \n",
       "6493      False                False                 False    False  False   \n",
       "6494      False                False                 False    False  False   \n",
       "6495      False                False                 False    False  False   \n",
       "6496      False                False                 False    False  False   \n",
       "\n",
       "      sulphates  alcohol  quality  \n",
       "0         False    False    False  \n",
       "1         False    False    False  \n",
       "2         False    False    False  \n",
       "3         False    False    False  \n",
       "4         False    False    False  \n",
       "...         ...      ...      ...  \n",
       "6492      False    False    False  \n",
       "6493       True    False    False  \n",
       "6494      False    False    False  \n",
       "6495      False    False    False  \n",
       "6496      False    False    False  \n",
       "\n",
       "[6497 rows x 13 columns]"
      ]
     },
     "execution_count": 18,
     "metadata": {},
     "output_type": "execute_result"
    }
   ],
   "source": [
    "# to find missing values\n",
    "Winedata.isnull()"
   ]
  },
  {
   "cell_type": "code",
   "execution_count": 20,
   "id": "5d60c6c9",
   "metadata": {
    "execution": {
     "iopub.execute_input": "2021-10-23T08:18:41.666876Z",
     "iopub.status.busy": "2021-10-23T08:18:41.665449Z",
     "iopub.status.idle": "2021-10-23T08:18:41.675591Z",
     "shell.execute_reply": "2021-10-23T08:18:41.676203Z",
     "shell.execute_reply.started": "2021-10-23T08:17:39.323039Z"
    },
    "papermill": {
     "duration": 0.029246,
     "end_time": "2021-10-23T08:18:41.676412",
     "exception": false,
     "start_time": "2021-10-23T08:18:41.647166",
     "status": "completed"
    },
    "tags": []
   },
   "outputs": [
    {
     "data": {
      "text/plain": [
       "type                     0\n",
       "fixed acidity           10\n",
       "volatile acidity         8\n",
       "citric acid              3\n",
       "residual sugar           2\n",
       "chlorides                2\n",
       "free sulfur dioxide      0\n",
       "total sulfur dioxide     0\n",
       "density                  0\n",
       "pH                       9\n",
       "sulphates                4\n",
       "alcohol                  0\n",
       "quality                  0\n",
       "dtype: int64"
      ]
     },
     "execution_count": 20,
     "metadata": {},
     "output_type": "execute_result"
    }
   ],
   "source": [
    "# to check for missing values\n",
    "Winedata.isnull().sum()"
   ]
  },
  {
   "cell_type": "code",
   "execution_count": 26,
   "id": "72dce618",
   "metadata": {
    "execution": {
     "iopub.execute_input": "2021-10-23T08:18:41.711543Z",
     "iopub.status.busy": "2021-10-23T08:18:41.710828Z",
     "iopub.status.idle": "2021-10-23T08:18:41.720510Z",
     "shell.execute_reply": "2021-10-23T08:18:41.721080Z",
     "shell.execute_reply.started": "2021-10-23T08:17:39.334309Z"
    },
    "papermill": {
     "duration": 0.029085,
     "end_time": "2021-10-23T08:18:41.721282",
     "exception": false,
     "start_time": "2021-10-23T08:18:41.692197",
     "status": "completed"
    },
    "tags": []
   },
   "outputs": [
    {
     "data": {
      "text/plain": [
       "type                    0\n",
       "fixed acidity           0\n",
       "volatile acidity        0\n",
       "citric acid             0\n",
       "residual sugar          0\n",
       "chlorides               0\n",
       "free sulfur dioxide     0\n",
       "total sulfur dioxide    0\n",
       "density                 0\n",
       "pH                      0\n",
       "sulphates               0\n",
       "alcohol                 0\n",
       "quality                 0\n",
       "dtype: int64"
      ]
     },
     "execution_count": 26,
     "metadata": {},
     "output_type": "execute_result"
    }
   ],
   "source": [
    "Winedata=Winedata.dropna()\n",
    "#After removing let's check whether all the missing values are removed\n",
    "Winedata.isnull().sum()"
   ]
  },
  {
   "cell_type": "code",
   "execution_count": 27,
   "id": "852a3fd6",
   "metadata": {},
   "outputs": [
    {
     "name": "stdout",
     "output_type": "stream",
     "text": [
      "6    2820\n",
      "5    2128\n",
      "7    1074\n",
      "4     214\n",
      "8     192\n",
      "3      30\n",
      "9       5\n",
      "Name: quality, dtype: int64\n"
     ]
    }
   ],
   "source": [
    "#print the no. of labels for each class\n",
    "print(Winedata.quality.value_counts())"
   ]
  },
  {
   "cell_type": "markdown",
   "id": "77b90ec4",
   "metadata": {},
   "source": [
    "# Data Visualization - Exploratory Data Analysis"
   ]
  },
  {
   "cell_type": "code",
   "execution_count": 60,
   "id": "599bd610",
   "metadata": {},
   "outputs": [
    {
     "name": "stderr",
     "output_type": "stream",
     "text": [
      "C:\\Users\\nidhi\\anaconda3\\lib\\site-packages\\seaborn\\_decorators.py:36: FutureWarning: Pass the following variable as a keyword arg: x. From version 0.12, the only valid positional argument will be `data`, and passing other arguments without an explicit keyword will result in an error or misinterpretation.\n",
      "  warnings.warn(\n"
     ]
    },
    {
     "data": {
      "image/png": "[encoded data removed]",
      "text/plain": [
       "<Figure size 432x288 with 1 Axes>"
      ]
     },
     "metadata": {
      "needs_background": "light"
     },
     "output_type": "display_data"
    }
   ],
   "source": [
    "sb.countplot(Winedata['quality'])\n",
    "\n",
    "plt.show()"
   ]
  },
  {
   "cell_type": "code",
   "execution_count": 30,
   "id": "76a83906",
   "metadata": {},
   "outputs": [
    {
     "data": {
      "text/plain": [
       "<AxesSubplot:xlabel='type', ylabel='count'>"
      ]
     },
     "execution_count": 30,
     "metadata": {},
     "output_type": "execute_result"
    },
    {
     "data": {
      "image/png": "[encoded data removed]",
      "text/plain": [
       "<Figure size 432x288 with 1 Axes>"
      ]
     },
     "metadata": {
      "needs_background": "light"
     },
     "output_type": "display_data"
    }
   ],
   "source": [
    "# to check the count of Red wine and white wine in the dataset\n",
    "sb.countplot(x='type',data=Winedata)"
   ]
  },
  {
   "cell_type": "code",
   "execution_count": 31,
   "id": "72f93da2",
   "metadata": {
    "execution": {
     "iopub.execute_input": "2021-10-23T08:18:41.757203Z",
     "iopub.status.busy": "2021-10-23T08:18:41.756469Z",
     "iopub.status.idle": "2021-10-23T08:18:42.096670Z",
     "shell.execute_reply": "2021-10-23T08:18:42.096101Z",
     "shell.execute_reply.started": "2021-10-23T08:17:39.349100Z"
    },
    "papermill": {
     "duration": 0.358893,
     "end_time": "2021-10-23T08:18:42.096821",
     "exception": false,
     "start_time": "2021-10-23T08:18:41.737928",
     "status": "completed"
    },
    "tags": []
   },
   "outputs": [
    {
     "data": {
      "text/plain": [
       "<AxesSubplot:xlabel='type', ylabel='count'>"
      ]
     },
     "execution_count": 31,
     "metadata": {},
     "output_type": "execute_result"
    },
    {
     "data": {
      "image/png": "[encoded data removed]",
      "text/plain": [
       "<Figure size 432x288 with 1 Axes>"
      ]
     },
     "metadata": {
      "needs_background": "light"
     },
     "output_type": "display_data"
    }
   ],
   "source": [
    "# plotting the data on the basis of type - univariate anlaysis\n",
    "sb.countplot(x = 'type', hue = 'quality', data = Winedata)"
   ]
  },
  {
   "cell_type": "markdown",
   "id": "9bddce98",
   "metadata": {
    "papermill": {
     "duration": 0.016062,
     "end_time": "2021-10-23T08:18:42.129424",
     "exception": false,
     "start_time": "2021-10-23T08:18:42.113362",
     "status": "completed"
    },
    "tags": []
   },
   "source": [
    "* Dataset contains more information about white wine than red wine**"
   ]
  },
  {
   "cell_type": "code",
   "execution_count": 63,
   "id": "3c44da0f",
   "metadata": {},
   "outputs": [
    {
     "data": {
      "text/plain": [
       "<AxesSubplot:xlabel='quality', ylabel='count'>"
      ]
     },
     "execution_count": 63,
     "metadata": {},
     "output_type": "execute_result"
    },
    {
     "data": {
      "image/png": "[encoded data removed]",
      "text/plain": [
       "<Figure size 432x288 with 1 Axes>"
      ]
     },
     "metadata": {
      "needs_background": "light"
     },
     "output_type": "display_data"
    }
   ],
   "source": [
    "sb.countplot(x='quality', data=Winedata)"
   ]
  },
  {
   "cell_type": "code",
   "execution_count": 32,
   "id": "bb0d92fc",
   "metadata": {
    "execution": {
     "iopub.execute_input": "2021-10-23T08:18:42.172342Z",
     "iopub.status.busy": "2021-10-23T08:18:42.169257Z",
     "iopub.status.idle": "2021-10-23T08:18:42.613471Z",
     "shell.execute_reply": "2021-10-23T08:18:42.612758Z",
     "shell.execute_reply.started": "2021-10-23T08:17:39.588861Z"
    },
    "papermill": {
     "duration": 0.467585,
     "end_time": "2021-10-23T08:18:42.613626",
     "exception": false,
     "start_time": "2021-10-23T08:18:42.146041",
     "status": "completed"
    },
    "tags": []
   },
   "outputs": [
    {
     "data": {
      "text/plain": [
       "<seaborn.axisgrid.FacetGrid at 0x1fc52413280>"
      ]
     },
     "execution_count": 32,
     "metadata": {},
     "output_type": "execute_result"
    },
    {
     "data": {
      "image/png": "[encoded data removed]",
      "text/plain": [
       "<Figure size 360x360 with 1 Axes>"
      ]
     },
     "metadata": {
      "needs_background": "light"
     },
     "output_type": "display_data"
    }
   ],
   "source": [
    "# plotting the data to check the quality \n",
    "sb.displot(x = Winedata['quality'], kde = True, color = 'green')"
   ]
  },
  {
   "cell_type": "code",
   "execution_count": 53,
   "id": "2d7c4867",
   "metadata": {},
   "outputs": [
    {
     "data": {
      "text/plain": [
       "<AxesSubplot:xlabel='quality', ylabel='alcohol'>"
      ]
     },
     "execution_count": 53,
     "metadata": {},
     "output_type": "execute_result"
    },
    {
     "data": {
      "image/png": "[encoded data removed]",
      "text/plain": [
       "<Figure size 432x288 with 1 Axes>"
      ]
     },
     "metadata": {
      "needs_background": "light"
     },
     "output_type": "display_data"
    }
   ],
   "source": [
    "sb.barplot(x='quality',y='alcohol',data=Winedata)"
   ]
  },
  {
   "cell_type": "code",
   "execution_count": 54,
   "id": "d060a44c",
   "metadata": {},
   "outputs": [
    {
     "data": {
      "text/plain": [
       "<AxesSubplot:xlabel='quality', ylabel='pH'>"
      ]
     },
     "execution_count": 54,
     "metadata": {},
     "output_type": "execute_result"
    },
    {
     "data": {
      "image/png": "[encoded data removed]",
      "text/plain": [
       "<Figure size 432x288 with 1 Axes>"
      ]
     },
     "metadata": {
      "needs_background": "light"
     },
     "output_type": "display_data"
    }
   ],
   "source": [
    "sb.barplot(x='quality',y='pH',data=Winedata)"
   ]
  },
  {
   "cell_type": "code",
   "execution_count": 55,
   "id": "1f1a27c9",
   "metadata": {},
   "outputs": [
    {
     "data": {
      "text/plain": [
       "<AxesSubplot:xlabel='quality', ylabel='volatile acidity'>"
      ]
     },
     "execution_count": 55,
     "metadata": {},
     "output_type": "execute_result"
    },
    {
     "data": {
      "image/png": "[encoded data removed]",
      "text/plain": [
       "<Figure size 432x288 with 1 Axes>"
      ]
     },
     "metadata": {
      "needs_background": "light"
     },
     "output_type": "display_data"
    }
   ],
   "source": [
    "sb.barplot(x='quality',y='volatile acidity',data=Winedata)"
   ]
  },
  {
   "cell_type": "code",
   "execution_count": null,
   "id": "ccb824c1",
   "metadata": {},
   "outputs": [],
   "source": [
    "# As we can see, Mostly wine is of average quality 6"
   ]
  },
  {
   "cell_type": "markdown",
   "id": "245568e3",
   "metadata": {
    "papermill": {
     "duration": 0.017133,
     "end_time": "2021-10-23T08:18:42.648292",
     "exception": false,
     "start_time": "2021-10-23T08:18:42.631159",
     "status": "completed"
    },
    "tags": []
   },
   "source": [
    "# > **ANALYSIS OF QUALITY WITH OTHER VARIOUS FACTORS**"
   ]
  },
  {
   "cell_type": "code",
   "execution_count": 33,
   "id": "019b029f",
   "metadata": {
    "execution": {
     "iopub.execute_input": "2021-10-23T08:18:42.713480Z",
     "iopub.status.busy": "2021-10-23T08:18:42.712017Z",
     "iopub.status.idle": "2021-10-23T08:18:49.536323Z",
     "shell.execute_reply": "2021-10-23T08:18:49.536877Z",
     "shell.execute_reply.started": "2021-10-23T08:17:40.045318Z"
    },
    "papermill": {
     "duration": 6.87007,
     "end_time": "2021-10-23T08:18:49.537057",
     "exception": false,
     "start_time": "2021-10-23T08:18:42.666987",
     "status": "completed"
    },
    "tags": []
   },
   "outputs": [
    {
     "data": {
      "text/plain": [
       "<AxesSubplot:xlabel='quality', ylabel='alcohol'>"
      ]
     },
     "execution_count": 33,
     "metadata": {},
     "output_type": "execute_result"
    },
    {
     "data": {
      "image/png": "[encoded data removed]",
      "text/plain": [
       "<Figure size 1800x1440 with 12 Axes>"
      ]
     },
     "metadata": {
      "needs_background": "light"
     },
     "output_type": "display_data"
    }
   ],
   "source": [
    "# to check the quality of wine with all other attributes\n",
    "f, x = plt.subplots(4, 3, figsize = (25, 20)) \n",
    "sb.regplot(x = Winedata['quality'], y = Winedata['fixed acidity'], ax = x[0, 0])\n",
    "sb.regplot(x = Winedata['quality'], y = Winedata['volatile acidity'], ax = x[0, 1])\n",
    "sb.regplot(x = Winedata['quality'], y = Winedata['citric acid'], ax = x[0, 2])\n",
    "sb.regplot(x = Winedata['quality'], y = Winedata['residual sugar'], ax = x[1, 0])\n",
    "sb.regplot(x = Winedata['quality'], y = Winedata['chlorides'], ax = x[1, 1])\n",
    "sb.regplot(x = Winedata['quality'], y = Winedata['free sulfur dioxide'], ax = x[1, 2])\n",
    "sb.regplot(x = Winedata['quality'], y = Winedata['total sulfur dioxide'], ax = x[2, 0])\n",
    "sb.regplot(x = Winedata['quality'], y = Winedata['sulphates'], ax = x[2, 1])\n",
    "sb.regplot(x = Winedata['quality'], y = Winedata['density'], ax = x[2, 2])\n",
    "sb.regplot(x = Winedata['quality'], y = Winedata['pH'], ax = x[3, 0])\n",
    "sb.regplot(x = Winedata['quality'], y = Winedata['alcohol'], ax = x[3, 1])"
   ]
  },
  {
   "cell_type": "markdown",
   "id": "7e2baafa",
   "metadata": {
    "papermill": {
     "duration": 0.021522,
     "end_time": "2021-10-23T08:18:49.580513",
     "exception": false,
     "start_time": "2021-10-23T08:18:49.558991",
     "status": "completed"
    },
    "tags": []
   },
   "source": [
    "Observations from the above plot:\n",
    "* Quality increases sharply with decrease in volatile acidity\n",
    "* Quality increases with increase in citric acid\n",
    "* Quality increases sharply with increase in alcohol"
   ]
  },
  {
   "cell_type": "code",
   "execution_count": 142,
   "id": "8820f9bb",
   "metadata": {},
   "outputs": [
    {
     "data": {
      "text/html": [
       "<div>\n",
       "<style scoped>\n",
       "    .dataframe tbody tr th:only-of-type {\n",
       "        vertical-align: middle;\n",
       "    }\n",
       "\n",
       "    .dataframe tbody tr th {\n",
       "        vertical-align: top;\n",
       "    }\n",
       "\n",
       "    .dataframe thead th {\n",
       "        text-align: right;\n",
       "    }\n",
       "</style>\n",
       "<table border=\"1\" class=\"dataframe\">\n",
       "  <thead>\n",
       "    <tr style=\"text-align: right;\">\n",
       "      <th></th>\n",
       "      <th>fixed acidity</th>\n",
       "      <th>volatile acidity</th>\n",
       "      <th>citric acid</th>\n",
       "      <th>residual sugar</th>\n",
       "      <th>chlorides</th>\n",
       "      <th>free sulfur dioxide</th>\n",
       "      <th>total sulfur dioxide</th>\n",
       "      <th>density</th>\n",
       "      <th>pH</th>\n",
       "      <th>sulphates</th>\n",
       "      <th>alcohol</th>\n",
       "      <th>quality</th>\n",
       "    </tr>\n",
       "  </thead>\n",
       "  <tbody>\n",
       "    <tr>\n",
       "      <th>fixed acidity</th>\n",
       "      <td>1.000000</td>\n",
       "      <td>0.216524</td>\n",
       "      <td>0.329252</td>\n",
       "      <td>-0.106084</td>\n",
       "      <td>0.289903</td>\n",
       "      <td>-0.282025</td>\n",
       "      <td>-0.328631</td>\n",
       "      <td>0.478920</td>\n",
       "      <td>-0.269624</td>\n",
       "      <td>0.307044</td>\n",
       "      <td>-0.103657</td>\n",
       "      <td>-0.049871</td>\n",
       "    </tr>\n",
       "    <tr>\n",
       "      <th>volatile acidity</th>\n",
       "      <td>0.216524</td>\n",
       "      <td>1.000000</td>\n",
       "      <td>-0.382750</td>\n",
       "      <td>-0.164438</td>\n",
       "      <td>0.368266</td>\n",
       "      <td>-0.349784</td>\n",
       "      <td>-0.401231</td>\n",
       "      <td>0.308416</td>\n",
       "      <td>0.245329</td>\n",
       "      <td>0.226537</td>\n",
       "      <td>-0.066781</td>\n",
       "      <td>-0.143663</td>\n",
       "    </tr>\n",
       "    <tr>\n",
       "      <th>citric acid</th>\n",
       "      <td>0.329252</td>\n",
       "      <td>-0.382750</td>\n",
       "      <td>1.000000</td>\n",
       "      <td>0.146528</td>\n",
       "      <td>0.055266</td>\n",
       "      <td>0.130802</td>\n",
       "      <td>0.194231</td>\n",
       "      <td>0.095824</td>\n",
       "      <td>-0.342648</td>\n",
       "      <td>0.062121</td>\n",
       "      <td>-0.005124</td>\n",
       "      <td>0.060059</td>\n",
       "    </tr>\n",
       "    <tr>\n",
       "      <th>residual sugar</th>\n",
       "      <td>-0.106084</td>\n",
       "      <td>-0.164438</td>\n",
       "      <td>0.146528</td>\n",
       "      <td>1.000000</td>\n",
       "      <td>-0.123115</td>\n",
       "      <td>0.399579</td>\n",
       "      <td>0.487534</td>\n",
       "      <td>0.520194</td>\n",
       "      <td>-0.233319</td>\n",
       "      <td>-0.174663</td>\n",
       "      <td>-0.305311</td>\n",
       "      <td>-0.083970</td>\n",
       "    </tr>\n",
       "    <tr>\n",
       "      <th>chlorides</th>\n",
       "      <td>0.289903</td>\n",
       "      <td>0.368266</td>\n",
       "      <td>0.055266</td>\n",
       "      <td>-0.123115</td>\n",
       "      <td>1.000000</td>\n",
       "      <td>-0.187312</td>\n",
       "      <td>-0.270009</td>\n",
       "      <td>0.372126</td>\n",
       "      <td>0.025963</td>\n",
       "      <td>0.405771</td>\n",
       "      <td>-0.270196</td>\n",
       "      <td>-0.160716</td>\n",
       "    </tr>\n",
       "    <tr>\n",
       "      <th>free sulfur dioxide</th>\n",
       "      <td>-0.282025</td>\n",
       "      <td>-0.349784</td>\n",
       "      <td>0.130802</td>\n",
       "      <td>0.399579</td>\n",
       "      <td>-0.187312</td>\n",
       "      <td>1.000000</td>\n",
       "      <td>0.721308</td>\n",
       "      <td>0.005827</td>\n",
       "      <td>-0.141368</td>\n",
       "      <td>-0.199005</td>\n",
       "      <td>-0.169854</td>\n",
       "      <td>0.011845</td>\n",
       "    </tr>\n",
       "    <tr>\n",
       "      <th>total sulfur dioxide</th>\n",
       "      <td>-0.328631</td>\n",
       "      <td>-0.401231</td>\n",
       "      <td>0.194231</td>\n",
       "      <td>0.487534</td>\n",
       "      <td>-0.270009</td>\n",
       "      <td>0.721308</td>\n",
       "      <td>1.000000</td>\n",
       "      <td>0.005974</td>\n",
       "      <td>-0.222003</td>\n",
       "      <td>-0.275389</td>\n",
       "      <td>-0.247779</td>\n",
       "      <td>-0.067750</td>\n",
       "    </tr>\n",
       "    <tr>\n",
       "      <th>density</th>\n",
       "      <td>0.478920</td>\n",
       "      <td>0.308416</td>\n",
       "      <td>0.095824</td>\n",
       "      <td>0.520194</td>\n",
       "      <td>0.372126</td>\n",
       "      <td>0.005827</td>\n",
       "      <td>0.005974</td>\n",
       "      <td>1.000000</td>\n",
       "      <td>0.034979</td>\n",
       "      <td>0.283042</td>\n",
       "      <td>-0.668950</td>\n",
       "      <td>-0.294350</td>\n",
       "    </tr>\n",
       "    <tr>\n",
       "      <th>pH</th>\n",
       "      <td>-0.269624</td>\n",
       "      <td>0.245329</td>\n",
       "      <td>-0.342648</td>\n",
       "      <td>-0.233319</td>\n",
       "      <td>0.025963</td>\n",
       "      <td>-0.141368</td>\n",
       "      <td>-0.222003</td>\n",
       "      <td>0.034979</td>\n",
       "      <td>1.000000</td>\n",
       "      <td>0.166139</td>\n",
       "      <td>0.096615</td>\n",
       "      <td>0.048157</td>\n",
       "    </tr>\n",
       "    <tr>\n",
       "      <th>sulphates</th>\n",
       "      <td>0.307044</td>\n",
       "      <td>0.226537</td>\n",
       "      <td>0.062121</td>\n",
       "      <td>-0.174663</td>\n",
       "      <td>0.405771</td>\n",
       "      <td>-0.199005</td>\n",
       "      <td>-0.275389</td>\n",
       "      <td>0.283042</td>\n",
       "      <td>0.166139</td>\n",
       "      <td>1.000000</td>\n",
       "      <td>-0.019008</td>\n",
       "      <td>0.037557</td>\n",
       "    </tr>\n",
       "    <tr>\n",
       "      <th>alcohol</th>\n",
       "      <td>-0.103657</td>\n",
       "      <td>-0.066781</td>\n",
       "      <td>-0.005124</td>\n",
       "      <td>-0.305311</td>\n",
       "      <td>-0.270196</td>\n",
       "      <td>-0.169854</td>\n",
       "      <td>-0.247779</td>\n",
       "      <td>-0.668950</td>\n",
       "      <td>0.096615</td>\n",
       "      <td>-0.019008</td>\n",
       "      <td>1.000000</td>\n",
       "      <td>0.418605</td>\n",
       "    </tr>\n",
       "    <tr>\n",
       "      <th>quality</th>\n",
       "      <td>-0.049871</td>\n",
       "      <td>-0.143663</td>\n",
       "      <td>0.060059</td>\n",
       "      <td>-0.083970</td>\n",
       "      <td>-0.160716</td>\n",
       "      <td>0.011845</td>\n",
       "      <td>-0.067750</td>\n",
       "      <td>-0.294350</td>\n",
       "      <td>0.048157</td>\n",
       "      <td>0.037557</td>\n",
       "      <td>0.418605</td>\n",
       "      <td>1.000000</td>\n",
       "    </tr>\n",
       "  </tbody>\n",
       "</table>\n",
       "</div>"
      ],
      "text/plain": [
       "                      fixed acidity  volatile acidity  citric acid  \\\n",
       "fixed acidity              1.000000          0.216524     0.329252   \n",
       "volatile acidity           0.216524          1.000000    -0.382750   \n",
       "citric acid                0.329252         -0.382750     1.000000   \n",
       "residual sugar            -0.106084         -0.164438     0.146528   \n",
       "chlorides                  0.289903          0.368266     0.055266   \n",
       "free sulfur dioxide       -0.282025         -0.349784     0.130802   \n",
       "total sulfur dioxide      -0.328631         -0.401231     0.194231   \n",
       "density                    0.478920          0.308416     0.095824   \n",
       "pH                        -0.269624          0.245329    -0.342648   \n",
       "sulphates                  0.307044          0.226537     0.062121   \n",
       "alcohol                   -0.103657         -0.066781    -0.005124   \n",
       "quality                   -0.049871         -0.143663     0.060059   \n",
       "\n",
       "                      residual sugar  chlorides  free sulfur dioxide  \\\n",
       "fixed acidity              -0.106084   0.289903            -0.282025   \n",
       "volatile acidity           -0.164438   0.368266            -0.349784   \n",
       "citric acid                 0.146528   0.055266             0.130802   \n",
       "residual sugar              1.000000  -0.123115             0.399579   \n",
       "chlorides                  -0.123115   1.000000            -0.187312   \n",
       "free sulfur dioxide         0.399579  -0.187312             1.000000   \n",
       "total sulfur dioxide        0.487534  -0.270009             0.721308   \n",
       "density                     0.520194   0.372126             0.005827   \n",
       "pH                         -0.233319   0.025963            -0.141368   \n",
       "sulphates                  -0.174663   0.405771            -0.199005   \n",
       "alcohol                    -0.305311  -0.270196            -0.169854   \n",
       "quality                    -0.083970  -0.160716             0.011845   \n",
       "\n",
       "                      total sulfur dioxide   density        pH  sulphates  \\\n",
       "fixed acidity                    -0.328631  0.478920 -0.269624   0.307044   \n",
       "volatile acidity                 -0.401231  0.308416  0.245329   0.226537   \n",
       "citric acid                       0.194231  0.095824 -0.342648   0.062121   \n",
       "residual sugar                    0.487534  0.520194 -0.233319  -0.174663   \n",
       "chlorides                        -0.270009  0.372126  0.025963   0.405771   \n",
       "free sulfur dioxide               0.721308  0.005827 -0.141368  -0.199005   \n",
       "total sulfur dioxide              1.000000  0.005974 -0.222003  -0.275389   \n",
       "density                           0.005974  1.000000  0.034979   0.283042   \n",
       "pH                               -0.222003  0.034979  1.000000   0.166139   \n",
       "sulphates                        -0.275389  0.283042  0.166139   1.000000   \n",
       "alcohol                          -0.247779 -0.668950  0.096615  -0.019008   \n",
       "quality                          -0.067750 -0.294350  0.048157   0.037557   \n",
       "\n",
       "                       alcohol   quality  \n",
       "fixed acidity        -0.103657 -0.049871  \n",
       "volatile acidity     -0.066781 -0.143663  \n",
       "citric acid          -0.005124  0.060059  \n",
       "residual sugar       -0.305311 -0.083970  \n",
       "chlorides            -0.270196 -0.160716  \n",
       "free sulfur dioxide  -0.169854  0.011845  \n",
       "total sulfur dioxide -0.247779 -0.067750  \n",
       "density              -0.668950 -0.294350  \n",
       "pH                    0.096615  0.048157  \n",
       "sulphates            -0.019008  0.037557  \n",
       "alcohol               1.000000  0.418605  \n",
       "quality               0.418605  1.000000  "
      ]
     },
     "execution_count": 142,
     "metadata": {},
     "output_type": "execute_result"
    }
   ],
   "source": [
    "#to see the correlation\n",
    "Winedata.corr()"
   ]
  },
  {
   "cell_type": "code",
   "execution_count": 21,
   "id": "4c42d05c",
   "metadata": {
    "execution": {
     "iopub.execute_input": "2021-10-23T08:18:49.631530Z",
     "iopub.status.busy": "2021-10-23T08:18:49.630851Z",
     "iopub.status.idle": "2021-10-23T08:18:50.996365Z",
     "shell.execute_reply": "2021-10-23T08:18:50.996906Z",
     "shell.execute_reply.started": "2021-10-23T08:17:47.099552Z"
    },
    "papermill": {
     "duration": 1.39455,
     "end_time": "2021-10-23T08:18:50.997089",
     "exception": false,
     "start_time": "2021-10-23T08:18:49.602539",
     "status": "completed"
    },
    "tags": []
   },
   "outputs": [
    {
     "data": {
      "image/png": "[encoded data removed]",
      "text/plain": [
       "<Figure size 1080x720 with 2 Axes>"
      ]
     },
     "metadata": {
      "needs_background": "light"
     },
     "output_type": "display_data"
    }
   ],
   "source": [
    "# plotting a heatmap to see the correlation of wine quality with other factors\n",
    "plt.figure(figsize = (15, 10))\n",
    "sb.heatmap(Winedata.corr(), annot = True,cmap='coolwarm')\n",
    "plt.show()"
   ]
  },
  {
   "cell_type": "markdown",
   "id": "d506f7cf",
   "metadata": {},
   "source": [
    "Observation:\n",
    "\n",
    "1. total sulfur dioxide is highly correlated with free sulfur dioxide\n",
    "2. fixed acidity is highly correlated with density and citric acid\n",
    "3. alcohol is highly correlated with quality\n",
    "4. citric acid is inversely correlated with pH and volatile acidity"
   ]
  },
  {
   "cell_type": "code",
   "execution_count": 69,
   "id": "a8b2b8f4",
   "metadata": {
    "papermill": {
     "duration": 0.027258,
     "end_time": "2021-10-23T08:18:51.049352",
     "exception": false,
     "start_time": "2021-10-23T08:18:51.022094",
     "status": "completed"
    },
    "tags": []
   },
   "outputs": [
    {
     "data": {
      "text/plain": [
       "fixed acidity               AxesSubplot(0.125,0.71587;0.168478x0.16413)\n",
       "volatile acidity         AxesSubplot(0.327174,0.71587;0.168478x0.16413)\n",
       "citric acid              AxesSubplot(0.529348,0.71587;0.168478x0.16413)\n",
       "residual sugar           AxesSubplot(0.731522,0.71587;0.168478x0.16413)\n",
       "chlorides                  AxesSubplot(0.125,0.518913;0.168478x0.16413)\n",
       "free sulfur dioxide     AxesSubplot(0.327174,0.518913;0.168478x0.16413)\n",
       "total sulfur dioxide    AxesSubplot(0.529348,0.518913;0.168478x0.16413)\n",
       "density                 AxesSubplot(0.731522,0.518913;0.168478x0.16413)\n",
       "pH                         AxesSubplot(0.125,0.321957;0.168478x0.16413)\n",
       "sulphates               AxesSubplot(0.327174,0.321957;0.168478x0.16413)\n",
       "alcohol                 AxesSubplot(0.529348,0.321957;0.168478x0.16413)\n",
       "quality                 AxesSubplot(0.731522,0.321957;0.168478x0.16413)\n",
       "dtype: object"
      ]
     },
     "execution_count": 69,
     "metadata": {},
     "output_type": "execute_result"
    },
    {
     "data": {
      "image/png": "[encoded data removed]",
      "text/plain": [
       "<Figure size 1080x1080 with 16 Axes>"
      ]
     },
     "metadata": {
      "needs_background": "light"
     },
     "output_type": "display_data"
    }
   ],
   "source": [
    "#checking outliers using box plot\n",
    "Winedata.plot(kind=\"box\",subplots=True,layout=(4,4),figsize=(15,15))"
   ]
  },
  {
   "cell_type": "markdown",
   "id": "ae33fc24",
   "metadata": {
    "papermill": {
     "duration": 0.026358,
     "end_time": "2021-10-23T08:18:51.102192",
     "exception": false,
     "start_time": "2021-10-23T08:18:51.075834",
     "status": "completed"
    },
    "tags": []
   },
   "source": [
    "Observation from box plot:\n",
    "\n",
    "“fixed.acidity” is a measure of inside liquid concentration. The histogram a right-skewed distributed with some outliers located at right side. The most frequent values are between 7-8.\n",
    "“volatile.acidity” is measure of acidity above-surface of liquid. The histogram is right-skewed distributed with some outliers located at right side. The most frequent values are between 0.4-0.6.\n",
    "“citric.acid” is right-skewed distributed with some outliers located at very right side. The most frequent values 0. It’s also interesting a lot of wine have citric.acid = 0\n",
    "“residual.sugar” is right-skewed distributed\n",
    "“chlorides” is right-skewed distributed The most frequent values are between 0.05-0.1\n",
    "“free.sulfur.dioxide” is right-skewed distributed\n",
    "“sulphates” is a right-skewed distributed"
   ]
  },
  {
   "cell_type": "markdown",
   "id": "e227dd85",
   "metadata": {},
   "source": [
    "# Data Modeling:\n"
   ]
  },
  {
   "cell_type": "code",
   "execution_count": null,
   "id": "a415dab5",
   "metadata": {},
   "outputs": [],
   "source": [
    "# importing all the required libraries for machine learning models\n",
    "\n",
    "import sklearn\n",
    "from sklearn.preprocessing import StandardScaler\n",
    "from sklearn.model_selection import train_test_split, GridSearchCV, cross_val_score\n",
    "from sklearn.metrics import confusion_matrix\n",
    "from sklearn.metrics import classification_report\n",
    "\n",
    "from sklearn.svm import SVC\n",
    "from sklearn.tree import DecisionTreeClassifier\n",
    "from sklearn.linear_model import LogisticRegression\n",
    "from sklearn.naive_bayes import GaussianNB\n",
    "from sklearn.ensemble import RandomForestClassifier\n",
    "from sklearn.metrics import accuracy_score"
   ]
  },
  {
   "cell_type": "code",
   "execution_count": 38,
   "id": "0f8e13eb",
   "metadata": {},
   "outputs": [
    {
     "data": {
      "text/html": [
       "<div>\n",
       "<style scoped>\n",
       "    .dataframe tbody tr th:only-of-type {\n",
       "        vertical-align: middle;\n",
       "    }\n",
       "\n",
       "    .dataframe tbody tr th {\n",
       "        vertical-align: top;\n",
       "    }\n",
       "\n",
       "    .dataframe thead th {\n",
       "        text-align: right;\n",
       "    }\n",
       "</style>\n",
       "<table border=\"1\" class=\"dataframe\">\n",
       "  <thead>\n",
       "    <tr style=\"text-align: right;\">\n",
       "      <th></th>\n",
       "      <th>type</th>\n",
       "      <th>fixed acidity</th>\n",
       "      <th>volatile acidity</th>\n",
       "      <th>citric acid</th>\n",
       "      <th>residual sugar</th>\n",
       "      <th>chlorides</th>\n",
       "      <th>free sulfur dioxide</th>\n",
       "      <th>total sulfur dioxide</th>\n",
       "      <th>density</th>\n",
       "      <th>pH</th>\n",
       "      <th>sulphates</th>\n",
       "      <th>alcohol</th>\n",
       "      <th>quality</th>\n",
       "    </tr>\n",
       "  </thead>\n",
       "  <tbody>\n",
       "    <tr>\n",
       "      <th>0</th>\n",
       "      <td>white</td>\n",
       "      <td>7.0</td>\n",
       "      <td>0.27</td>\n",
       "      <td>0.36</td>\n",
       "      <td>20.7</td>\n",
       "      <td>0.045</td>\n",
       "      <td>45.0</td>\n",
       "      <td>170.0</td>\n",
       "      <td>1.0010</td>\n",
       "      <td>3.00</td>\n",
       "      <td>0.45</td>\n",
       "      <td>8.8</td>\n",
       "      <td>0</td>\n",
       "    </tr>\n",
       "    <tr>\n",
       "      <th>1</th>\n",
       "      <td>white</td>\n",
       "      <td>6.3</td>\n",
       "      <td>0.30</td>\n",
       "      <td>0.34</td>\n",
       "      <td>1.6</td>\n",
       "      <td>0.049</td>\n",
       "      <td>14.0</td>\n",
       "      <td>132.0</td>\n",
       "      <td>0.9940</td>\n",
       "      <td>3.30</td>\n",
       "      <td>0.49</td>\n",
       "      <td>9.5</td>\n",
       "      <td>0</td>\n",
       "    </tr>\n",
       "    <tr>\n",
       "      <th>2</th>\n",
       "      <td>white</td>\n",
       "      <td>8.1</td>\n",
       "      <td>0.28</td>\n",
       "      <td>0.40</td>\n",
       "      <td>6.9</td>\n",
       "      <td>0.050</td>\n",
       "      <td>30.0</td>\n",
       "      <td>97.0</td>\n",
       "      <td>0.9951</td>\n",
       "      <td>3.26</td>\n",
       "      <td>0.44</td>\n",
       "      <td>10.1</td>\n",
       "      <td>0</td>\n",
       "    </tr>\n",
       "    <tr>\n",
       "      <th>3</th>\n",
       "      <td>white</td>\n",
       "      <td>7.2</td>\n",
       "      <td>0.23</td>\n",
       "      <td>0.32</td>\n",
       "      <td>8.5</td>\n",
       "      <td>0.058</td>\n",
       "      <td>47.0</td>\n",
       "      <td>186.0</td>\n",
       "      <td>0.9956</td>\n",
       "      <td>3.19</td>\n",
       "      <td>0.40</td>\n",
       "      <td>9.9</td>\n",
       "      <td>0</td>\n",
       "    </tr>\n",
       "    <tr>\n",
       "      <th>4</th>\n",
       "      <td>white</td>\n",
       "      <td>7.2</td>\n",
       "      <td>0.23</td>\n",
       "      <td>0.32</td>\n",
       "      <td>8.5</td>\n",
       "      <td>0.058</td>\n",
       "      <td>47.0</td>\n",
       "      <td>186.0</td>\n",
       "      <td>0.9956</td>\n",
       "      <td>3.19</td>\n",
       "      <td>0.40</td>\n",
       "      <td>9.9</td>\n",
       "      <td>0</td>\n",
       "    </tr>\n",
       "  </tbody>\n",
       "</table>\n",
       "</div>"
      ],
      "text/plain": [
       "    type  fixed acidity  volatile acidity  citric acid  residual sugar  \\\n",
       "0  white            7.0              0.27         0.36            20.7   \n",
       "1  white            6.3              0.30         0.34             1.6   \n",
       "2  white            8.1              0.28         0.40             6.9   \n",
       "3  white            7.2              0.23         0.32             8.5   \n",
       "4  white            7.2              0.23         0.32             8.5   \n",
       "\n",
       "   chlorides  free sulfur dioxide  total sulfur dioxide  density    pH  \\\n",
       "0      0.045                 45.0                 170.0   1.0010  3.00   \n",
       "1      0.049                 14.0                 132.0   0.9940  3.30   \n",
       "2      0.050                 30.0                  97.0   0.9951  3.26   \n",
       "3      0.058                 47.0                 186.0   0.9956  3.19   \n",
       "4      0.058                 47.0                 186.0   0.9956  3.19   \n",
       "\n",
       "   sulphates  alcohol  quality  \n",
       "0       0.45      8.8        0  \n",
       "1       0.49      9.5        0  \n",
       "2       0.44     10.1        0  \n",
       "3       0.40      9.9        0  \n",
       "4       0.40      9.9        0  "
      ]
     },
     "execution_count": 38,
     "metadata": {},
     "output_type": "execute_result"
    }
   ],
   "source": [
    "# let's categorize the quality column to apply classification model\n",
    "# 1 is good qualit y and 0 is bad quality\n",
    "Winedata['quality']=Winedata['quality'].apply (lambda x:1 if x > 6 else 0 )\n",
    "Winedata.head()"
   ]
  },
  {
   "cell_type": "code",
   "execution_count": 95,
   "id": "33e92563",
   "metadata": {},
   "outputs": [
    {
     "data": {
      "text/html": [
       "<div>\n",
       "<style scoped>\n",
       "    .dataframe tbody tr th:only-of-type {\n",
       "        vertical-align: middle;\n",
       "    }\n",
       "\n",
       "    .dataframe tbody tr th {\n",
       "        vertical-align: top;\n",
       "    }\n",
       "\n",
       "    .dataframe thead th {\n",
       "        text-align: right;\n",
       "    }\n",
       "</style>\n",
       "<table border=\"1\" class=\"dataframe\">\n",
       "  <thead>\n",
       "    <tr style=\"text-align: right;\">\n",
       "      <th></th>\n",
       "      <th>type</th>\n",
       "      <th>fixed acidity</th>\n",
       "      <th>volatile acidity</th>\n",
       "      <th>citric acid</th>\n",
       "      <th>residual sugar</th>\n",
       "      <th>chlorides</th>\n",
       "      <th>free sulfur dioxide</th>\n",
       "      <th>total sulfur dioxide</th>\n",
       "      <th>density</th>\n",
       "      <th>pH</th>\n",
       "      <th>sulphates</th>\n",
       "      <th>alcohol</th>\n",
       "      <th>quality</th>\n",
       "    </tr>\n",
       "  </thead>\n",
       "  <tbody>\n",
       "    <tr>\n",
       "      <th>4945</th>\n",
       "      <td>red</td>\n",
       "      <td>8.7</td>\n",
       "      <td>0.290</td>\n",
       "      <td>0.52</td>\n",
       "      <td>1.60</td>\n",
       "      <td>0.113</td>\n",
       "      <td>12.0</td>\n",
       "      <td>37.0</td>\n",
       "      <td>0.99690</td>\n",
       "      <td>3.25</td>\n",
       "      <td>0.58</td>\n",
       "      <td>9.5</td>\n",
       "      <td>0</td>\n",
       "    </tr>\n",
       "    <tr>\n",
       "      <th>912</th>\n",
       "      <td>white</td>\n",
       "      <td>6.3</td>\n",
       "      <td>0.340</td>\n",
       "      <td>0.19</td>\n",
       "      <td>5.80</td>\n",
       "      <td>0.041</td>\n",
       "      <td>22.0</td>\n",
       "      <td>145.0</td>\n",
       "      <td>0.99430</td>\n",
       "      <td>3.15</td>\n",
       "      <td>0.63</td>\n",
       "      <td>9.9</td>\n",
       "      <td>0</td>\n",
       "    </tr>\n",
       "    <tr>\n",
       "      <th>548</th>\n",
       "      <td>white</td>\n",
       "      <td>6.5</td>\n",
       "      <td>0.180</td>\n",
       "      <td>0.31</td>\n",
       "      <td>1.70</td>\n",
       "      <td>0.044</td>\n",
       "      <td>30.0</td>\n",
       "      <td>127.0</td>\n",
       "      <td>0.99280</td>\n",
       "      <td>3.49</td>\n",
       "      <td>0.50</td>\n",
       "      <td>10.2</td>\n",
       "      <td>1</td>\n",
       "    </tr>\n",
       "    <tr>\n",
       "      <th>350</th>\n",
       "      <td>white</td>\n",
       "      <td>6.3</td>\n",
       "      <td>0.120</td>\n",
       "      <td>0.36</td>\n",
       "      <td>2.10</td>\n",
       "      <td>0.044</td>\n",
       "      <td>47.0</td>\n",
       "      <td>146.0</td>\n",
       "      <td>0.99140</td>\n",
       "      <td>3.27</td>\n",
       "      <td>0.74</td>\n",
       "      <td>11.4</td>\n",
       "      <td>1</td>\n",
       "    </tr>\n",
       "    <tr>\n",
       "      <th>5949</th>\n",
       "      <td>red</td>\n",
       "      <td>8.5</td>\n",
       "      <td>0.460</td>\n",
       "      <td>0.59</td>\n",
       "      <td>1.40</td>\n",
       "      <td>0.414</td>\n",
       "      <td>16.0</td>\n",
       "      <td>45.0</td>\n",
       "      <td>0.99702</td>\n",
       "      <td>3.03</td>\n",
       "      <td>1.34</td>\n",
       "      <td>9.2</td>\n",
       "      <td>0</td>\n",
       "    </tr>\n",
       "    <tr>\n",
       "      <th>1127</th>\n",
       "      <td>white</td>\n",
       "      <td>6.4</td>\n",
       "      <td>0.125</td>\n",
       "      <td>0.29</td>\n",
       "      <td>5.85</td>\n",
       "      <td>0.042</td>\n",
       "      <td>24.0</td>\n",
       "      <td>99.0</td>\n",
       "      <td>0.99200</td>\n",
       "      <td>3.23</td>\n",
       "      <td>0.32</td>\n",
       "      <td>12.0</td>\n",
       "      <td>1</td>\n",
       "    </tr>\n",
       "    <tr>\n",
       "      <th>1140</th>\n",
       "      <td>white</td>\n",
       "      <td>8.5</td>\n",
       "      <td>0.160</td>\n",
       "      <td>0.33</td>\n",
       "      <td>1.00</td>\n",
       "      <td>0.076</td>\n",
       "      <td>17.0</td>\n",
       "      <td>57.0</td>\n",
       "      <td>0.99210</td>\n",
       "      <td>3.14</td>\n",
       "      <td>0.46</td>\n",
       "      <td>10.6</td>\n",
       "      <td>0</td>\n",
       "    </tr>\n",
       "    <tr>\n",
       "      <th>4395</th>\n",
       "      <td>white</td>\n",
       "      <td>6.6</td>\n",
       "      <td>0.240</td>\n",
       "      <td>0.22</td>\n",
       "      <td>12.30</td>\n",
       "      <td>0.051</td>\n",
       "      <td>35.0</td>\n",
       "      <td>146.0</td>\n",
       "      <td>0.99676</td>\n",
       "      <td>3.10</td>\n",
       "      <td>0.67</td>\n",
       "      <td>9.4</td>\n",
       "      <td>0</td>\n",
       "    </tr>\n",
       "    <tr>\n",
       "      <th>4040</th>\n",
       "      <td>white</td>\n",
       "      <td>6.3</td>\n",
       "      <td>0.240</td>\n",
       "      <td>0.29</td>\n",
       "      <td>1.60</td>\n",
       "      <td>0.052</td>\n",
       "      <td>48.0</td>\n",
       "      <td>185.0</td>\n",
       "      <td>0.99340</td>\n",
       "      <td>3.21</td>\n",
       "      <td>0.50</td>\n",
       "      <td>9.4</td>\n",
       "      <td>0</td>\n",
       "    </tr>\n",
       "    <tr>\n",
       "      <th>15</th>\n",
       "      <td>white</td>\n",
       "      <td>6.6</td>\n",
       "      <td>0.170</td>\n",
       "      <td>0.38</td>\n",
       "      <td>1.50</td>\n",
       "      <td>0.032</td>\n",
       "      <td>28.0</td>\n",
       "      <td>112.0</td>\n",
       "      <td>0.99140</td>\n",
       "      <td>3.25</td>\n",
       "      <td>0.55</td>\n",
       "      <td>11.4</td>\n",
       "      <td>1</td>\n",
       "    </tr>\n",
       "  </tbody>\n",
       "</table>\n",
       "</div>"
      ],
      "text/plain": [
       "       type  fixed acidity  volatile acidity  citric acid  residual sugar  \\\n",
       "4945    red            8.7             0.290         0.52            1.60   \n",
       "912   white            6.3             0.340         0.19            5.80   \n",
       "548   white            6.5             0.180         0.31            1.70   \n",
       "350   white            6.3             0.120         0.36            2.10   \n",
       "5949    red            8.5             0.460         0.59            1.40   \n",
       "1127  white            6.4             0.125         0.29            5.85   \n",
       "1140  white            8.5             0.160         0.33            1.00   \n",
       "4395  white            6.6             0.240         0.22           12.30   \n",
       "4040  white            6.3             0.240         0.29            1.60   \n",
       "15    white            6.6             0.170         0.38            1.50   \n",
       "\n",
       "      chlorides  free sulfur dioxide  total sulfur dioxide  density    pH  \\\n",
       "4945      0.113                 12.0                  37.0  0.99690  3.25   \n",
       "912       0.041                 22.0                 145.0  0.99430  3.15   \n",
       "548       0.044                 30.0                 127.0  0.99280  3.49   \n",
       "350       0.044                 47.0                 146.0  0.99140  3.27   \n",
       "5949      0.414                 16.0                  45.0  0.99702  3.03   \n",
       "1127      0.042                 24.0                  99.0  0.99200  3.23   \n",
       "1140      0.076                 17.0                  57.0  0.99210  3.14   \n",
       "4395      0.051                 35.0                 146.0  0.99676  3.10   \n",
       "4040      0.052                 48.0                 185.0  0.99340  3.21   \n",
       "15        0.032                 28.0                 112.0  0.99140  3.25   \n",
       "\n",
       "      sulphates  alcohol  quality  \n",
       "4945       0.58      9.5        0  \n",
       "912        0.63      9.9        0  \n",
       "548        0.50     10.2        1  \n",
       "350        0.74     11.4        1  \n",
       "5949       1.34      9.2        0  \n",
       "1127       0.32     12.0        1  \n",
       "1140       0.46     10.6        0  \n",
       "4395       0.67      9.4        0  \n",
       "4040       0.50      9.4        0  \n",
       "15         0.55     11.4        1  "
      ]
     },
     "execution_count": 95,
     "metadata": {},
     "output_type": "execute_result"
    }
   ],
   "source": [
    "Winedata.sample(10)"
   ]
  },
  {
   "cell_type": "code",
   "execution_count": 162,
   "id": "cda61e48",
   "metadata": {},
   "outputs": [
    {
     "data": {
      "text/html": [
       "<div>\n",
       "<style scoped>\n",
       "    .dataframe tbody tr th:only-of-type {\n",
       "        vertical-align: middle;\n",
       "    }\n",
       "\n",
       "    .dataframe tbody tr th {\n",
       "        vertical-align: top;\n",
       "    }\n",
       "\n",
       "    .dataframe thead th {\n",
       "        text-align: right;\n",
       "    }\n",
       "</style>\n",
       "<table border=\"1\" class=\"dataframe\">\n",
       "  <thead>\n",
       "    <tr style=\"text-align: right;\">\n",
       "      <th></th>\n",
       "      <th>fixed acidity</th>\n",
       "      <th>volatile acidity</th>\n",
       "      <th>citric acid</th>\n",
       "      <th>residual sugar</th>\n",
       "      <th>chlorides</th>\n",
       "      <th>free sulfur dioxide</th>\n",
       "      <th>total sulfur dioxide</th>\n",
       "      <th>density</th>\n",
       "      <th>pH</th>\n",
       "      <th>sulphates</th>\n",
       "      <th>alcohol</th>\n",
       "    </tr>\n",
       "  </thead>\n",
       "  <tbody>\n",
       "    <tr>\n",
       "      <th>0</th>\n",
       "      <td>7.0</td>\n",
       "      <td>0.27</td>\n",
       "      <td>0.36</td>\n",
       "      <td>20.7</td>\n",
       "      <td>0.045</td>\n",
       "      <td>45.0</td>\n",
       "      <td>170.0</td>\n",
       "      <td>1.0010</td>\n",
       "      <td>3.00</td>\n",
       "      <td>0.45</td>\n",
       "      <td>8.8</td>\n",
       "    </tr>\n",
       "    <tr>\n",
       "      <th>1</th>\n",
       "      <td>6.3</td>\n",
       "      <td>0.30</td>\n",
       "      <td>0.34</td>\n",
       "      <td>1.6</td>\n",
       "      <td>0.049</td>\n",
       "      <td>14.0</td>\n",
       "      <td>132.0</td>\n",
       "      <td>0.9940</td>\n",
       "      <td>3.30</td>\n",
       "      <td>0.49</td>\n",
       "      <td>9.5</td>\n",
       "    </tr>\n",
       "    <tr>\n",
       "      <th>2</th>\n",
       "      <td>8.1</td>\n",
       "      <td>0.28</td>\n",
       "      <td>0.40</td>\n",
       "      <td>6.9</td>\n",
       "      <td>0.050</td>\n",
       "      <td>30.0</td>\n",
       "      <td>97.0</td>\n",
       "      <td>0.9951</td>\n",
       "      <td>3.26</td>\n",
       "      <td>0.44</td>\n",
       "      <td>10.1</td>\n",
       "    </tr>\n",
       "    <tr>\n",
       "      <th>3</th>\n",
       "      <td>7.2</td>\n",
       "      <td>0.23</td>\n",
       "      <td>0.32</td>\n",
       "      <td>8.5</td>\n",
       "      <td>0.058</td>\n",
       "      <td>47.0</td>\n",
       "      <td>186.0</td>\n",
       "      <td>0.9956</td>\n",
       "      <td>3.19</td>\n",
       "      <td>0.40</td>\n",
       "      <td>9.9</td>\n",
       "    </tr>\n",
       "    <tr>\n",
       "      <th>6</th>\n",
       "      <td>6.2</td>\n",
       "      <td>0.32</td>\n",
       "      <td>0.16</td>\n",
       "      <td>7.0</td>\n",
       "      <td>0.045</td>\n",
       "      <td>30.0</td>\n",
       "      <td>136.0</td>\n",
       "      <td>0.9949</td>\n",
       "      <td>3.18</td>\n",
       "      <td>0.47</td>\n",
       "      <td>9.6</td>\n",
       "    </tr>\n",
       "  </tbody>\n",
       "</table>\n",
       "</div>"
      ],
      "text/plain": [
       "   fixed acidity  volatile acidity  citric acid  residual sugar  chlorides  \\\n",
       "0            7.0              0.27         0.36            20.7      0.045   \n",
       "1            6.3              0.30         0.34             1.6      0.049   \n",
       "2            8.1              0.28         0.40             6.9      0.050   \n",
       "3            7.2              0.23         0.32             8.5      0.058   \n",
       "6            6.2              0.32         0.16             7.0      0.045   \n",
       "\n",
       "   free sulfur dioxide  total sulfur dioxide  density    pH  sulphates  \\\n",
       "0                 45.0                 170.0   1.0010  3.00       0.45   \n",
       "1                 14.0                 132.0   0.9940  3.30       0.49   \n",
       "2                 30.0                  97.0   0.9951  3.26       0.44   \n",
       "3                 47.0                 186.0   0.9956  3.19       0.40   \n",
       "6                 30.0                 136.0   0.9949  3.18       0.47   \n",
       "\n",
       "   alcohol  \n",
       "0      8.8  \n",
       "1      9.5  \n",
       "2     10.1  \n",
       "3      9.9  \n",
       "6      9.6  "
      ]
     },
     "execution_count": 162,
     "metadata": {},
     "output_type": "execute_result"
    }
   ],
   "source": [
    "x.head()"
   ]
  },
  {
   "cell_type": "code",
   "execution_count": 77,
   "id": "531bbea5",
   "metadata": {},
   "outputs": [
    {
     "data": {
      "text/plain": [
       "0    6\n",
       "1    6\n",
       "2    6\n",
       "3    6\n",
       "6    6\n",
       "Name: quality, dtype: int64"
      ]
     },
     "execution_count": 77,
     "metadata": {},
     "output_type": "execute_result"
    }
   ],
   "source": [
    "y.head()"
   ]
  },
  {
   "cell_type": "code",
   "execution_count": 39,
   "id": "269b70e2",
   "metadata": {},
   "outputs": [],
   "source": [
    "# divinding dataset into independent and dependent variables\n",
    "#input split - DISCRETE(X) AND CATEGORICAL VARIABLE(Y)\n",
    "\n",
    "x=Winedata.drop(['quality','type'], axis = 1)\n",
    "y=Winedata['quality']"
   ]
  },
  {
   "cell_type": "code",
   "execution_count": 85,
   "id": "e0465fb0",
   "metadata": {},
   "outputs": [
    {
     "data": {
      "text/plain": [
       "(5329, 11)"
      ]
     },
     "execution_count": 85,
     "metadata": {},
     "output_type": "execute_result"
    }
   ],
   "source": [
    "x.shape"
   ]
  },
  {
   "cell_type": "markdown",
   "id": "27d8cf49",
   "metadata": {},
   "source": [
    "    Splitting the data into training and testing model"
   ]
  },
  {
   "cell_type": "code",
   "execution_count": 40,
   "id": "a218bcf3",
   "metadata": {},
   "outputs": [],
   "source": [
    "from sklearn.model_selection import train_test_split\n"
   ]
  },
  {
   "cell_type": "code",
   "execution_count": 41,
   "id": "7ffd2bc8",
   "metadata": {},
   "outputs": [],
   "source": [
    "#model splitting with 30% test data and 70% train dataset\n",
    "\n",
    "\n",
    "x_train,x_test,y_train,y_test = train_test_split(x,y,test_size=0.3,random_state=10)"
   ]
  },
  {
   "cell_type": "code",
   "execution_count": 42,
   "id": "bc9963c7",
   "metadata": {},
   "outputs": [],
   "source": [
    "#Feature scaling - standardize the data to same scale\n",
    "sc=StandardScaler()\n",
    "x_train=sc.fit_transform(x_train)\n",
    "x_test=sc.fit_transform(x_test)"
   ]
  },
  {
   "cell_type": "code",
   "execution_count": 91,
   "id": "5d9b8a3c",
   "metadata": {},
   "outputs": [
    {
     "data": {
      "text/plain": [
       "array([[-6.09071343e-01, -4.95364455e-01,  5.43707332e-01, ...,\n",
       "        -8.37121346e-01,  2.89828723e-02, -3.93493362e-01],\n",
       "       [-3.09907999e-01, -7.34440057e-01,  2.52161486e-03, ...,\n",
       "        -1.51668423e-01,  2.25858629e-01,  1.96222690e-01],\n",
       "       [-6.09071343e-01, -5.55133355e-01, -2.68071244e-01, ...,\n",
       "        -8.37121346e-01,  2.91483881e-01,  1.88112569e+00],\n",
       "       ...,\n",
       "       [-6.09071343e-01, -5.55133355e-01,  2.84374663e+00, ...,\n",
       "        -8.93545212e-02, -7.58520155e-01, -1.15169971e+00],\n",
       "       [ 4.38000360e-01,  3.38961408e+00, -1.68868375e+00, ...,\n",
       "         1.78006254e+00, -6.92894902e-01,  1.11977539e-01],\n",
       "       [ 7.37163704e-01, -7.34440057e-01,  1.15254126e+00, ...,\n",
       "        -1.27331866e+00, -1.34914742e+00,  2.77323892e-02]])"
      ]
     },
     "execution_count": 91,
     "metadata": {},
     "output_type": "execute_result"
    }
   ],
   "source": [
    "x_train"
   ]
  },
  {
   "cell_type": "code",
   "execution_count": 150,
   "id": "998bf065",
   "metadata": {},
   "outputs": [
    {
     "data": {
      "text/plain": [
       "(1599, 11)"
      ]
     },
     "execution_count": 150,
     "metadata": {},
     "output_type": "execute_result"
    }
   ],
   "source": [
    "x_test.shape"
   ]
  },
  {
   "cell_type": "code",
   "execution_count": 159,
   "id": "bee963a9",
   "metadata": {},
   "outputs": [
    {
     "data": {
      "text/plain": [
       "(3730, 11)"
      ]
     },
     "execution_count": 159,
     "metadata": {},
     "output_type": "execute_result"
    }
   ],
   "source": [
    "x_train.shape\n"
   ]
  },
  {
   "cell_type": "markdown",
   "id": "ff384564",
   "metadata": {},
   "source": [
    "# Machine Learning Supervised model - classification method"
   ]
  },
  {
   "cell_type": "code",
   "execution_count": 51,
   "id": "fff43564",
   "metadata": {},
   "outputs": [],
   "source": [
    "#classify function - classification methods/models\n",
    "def classify(model, x, y):\n",
    "    x_train,x_test,y_train,y_test = train_test_split(x,y,test_size=0.3,random_state=42)\n",
    "    #train the model\n",
    "    model.fit(x_train,y_train)\n",
    "    print(\"Accuracy:\", model.score(x_test,y_test) * 100)\n",
    "    \n",
    "    "
   ]
  },
  {
   "cell_type": "code",
   "execution_count": 52,
   "id": "7f901380",
   "metadata": {},
   "outputs": [
    {
     "name": "stdout",
     "output_type": "stream",
     "text": [
      "Accuracy: 88.03506962351729\n"
     ]
    }
   ],
   "source": [
    "## model 1 - Random forest\n",
    "\n",
    "reg=RandomForestClassifier(n_estimators=80)\n",
    "\n",
    "reg.fit(x_train,y_train)\n",
    "y_pred=reg.predict(x_test)\n",
    "classify(reg,x,y)"
   ]
  },
  {
   "cell_type": "code",
   "execution_count": 53,
   "id": "cfd264d8",
   "metadata": {},
   "outputs": [
    {
     "name": "stdout",
     "output_type": "stream",
     "text": [
      "[[1506   60]\n",
      " [ 162  211]]\n"
     ]
    },
    {
     "data": {
      "text/plain": [
       "<matplotlib.image.AxesImage at 0x1fc524ec850>"
      ]
     },
     "execution_count": 53,
     "metadata": {},
     "output_type": "execute_result"
    },
    {
     "data": {
      "image/png": "[encoded data removed]",
      "text/plain": [
       "<Figure size 288x288 with 1 Axes>"
      ]
     },
     "metadata": {
      "needs_background": "light"
     },
     "output_type": "display_data"
    }
   ],
   "source": [
    "cm=confusion_matrix(y_test,y_pred)\n",
    "print(cm)\n",
    "\n",
    "plt.matshow(cm)"
   ]
  },
  {
   "cell_type": "code",
   "execution_count": 62,
   "id": "1001d932",
   "metadata": {},
   "outputs": [
    {
     "name": "stdout",
     "output_type": "stream",
     "text": [
      "Accuracy: 82.98091799896854\n"
     ]
    }
   ],
   "source": [
    "# model 2 - Decision tree\n",
    "\n",
    "DT=DecisionTreeClassifier()\n",
    "classify(DT,x,y)\n"
   ]
  },
  {
   "cell_type": "code",
   "execution_count": 55,
   "id": "429979d2",
   "metadata": {},
   "outputs": [],
   "source": [
    "### model 3 Naive bayes \n",
    "nb = GaussianNB()\n",
    "nb.fit(x_train,y_train)\n",
    "nb_predict=nb.predict(x_test)"
   ]
  },
  {
   "cell_type": "code",
   "execution_count": 56,
   "id": "d0d344e1",
   "metadata": {},
   "outputs": [
    {
     "name": "stdout",
     "output_type": "stream",
     "text": [
      "[[1223  343]\n",
      " [ 138  235]]\n",
      "75.19339865910263\n"
     ]
    }
   ],
   "source": [
    "#print confusion matrix and accuracy score\n",
    "nb_conf_matrix = confusion_matrix(y_test, nb_predict)\n",
    "nb_acc_score = accuracy_score(y_test, nb_predict)\n",
    "print(nb_conf_matrix)\n",
    "print(nb_acc_score*100)"
   ]
  },
  {
   "cell_type": "code",
   "execution_count": 48,
   "id": "aa7982d8",
   "metadata": {},
   "outputs": [
    {
     "name": "stdout",
     "output_type": "stream",
     "text": [
      "[[1495   71]\n",
      " [ 258  115]]\n"
     ]
    },
    {
     "data": {
      "image/png": "[encoded data removed]",
      "text/plain": [
       "<Figure size 432x288 with 2 Axes>"
      ]
     },
     "metadata": {
      "needs_background": "light"
     },
     "output_type": "display_data"
    }
   ],
   "source": [
    "### model 4- lOGISTIC REGRESSION MODEL\n",
    "\n",
    "#creating a instance for LR\n",
    "LRmodel=LogisticRegression()\n",
    "\n",
    "#fitting the model with  training data\n",
    "LRmodel=LogisticRegression().fit(x_train,y_train)\n",
    "\n",
    "#predicting the model with test data\n",
    "pred_LR=LRmodel.predict(x_test)\n",
    "\n",
    "#evalutaing the model\n",
    "cm2=confusion_matrix(y_test,pred_LR)\n",
    "print(cm2)\n",
    "#plotting the CM\n",
    "ax2=sb.heatmap(cm2,annot=True)\n",
    "plt.show()\n"
   ]
  },
  {
   "cell_type": "code",
   "execution_count": 49,
   "id": "247ae88a",
   "metadata": {},
   "outputs": [
    {
     "data": {
      "text/plain": [
       "'              precision    recall  f1-score   support\\n\\n           0       0.85      0.95      0.90      1566\\n           1       0.62      0.31      0.41       373\\n\\n    accuracy                           0.83      1939\\n   macro avg       0.74      0.63      0.66      1939\\nweighted avg       0.81      0.83      0.81      1939\\n'"
      ]
     },
     "execution_count": 49,
     "metadata": {},
     "output_type": "execute_result"
    }
   ],
   "source": [
    "#evaluating the MODEL predictions\n",
    "classification_report(y_test,pred_LR)\n",
    "    "
   ]
  },
  {
   "cell_type": "code",
   "execution_count": 50,
   "id": "3a9d6fb5",
   "metadata": {},
   "outputs": [
    {
     "data": {
      "text/plain": [
       "83.03249097472924"
      ]
     },
     "execution_count": 50,
     "metadata": {},
     "output_type": "execute_result"
    }
   ],
   "source": [
    "#evaluating the predictions\n",
    "accuracy_score(y_test,pred_LR)\n",
    "accuracy_score(y_test,pred_LR)*100\n"
   ]
  },
  {
   "cell_type": "markdown",
   "id": "e443db68",
   "metadata": {},
   "source": [
    "# RESULT:\n",
    "\n",
    "1. The data was downloaded from UCI Machine Learning Repository.\n",
    "\n",
    "2. The datasets contains 25% red and 75 % white variants of the Portuguese \"Vinho Verde\" wine.\n",
    "\n",
    "3. Mostly wine is of the average quality 6. There are low poor and excellent quality wine\n",
    "\n",
    "4. Quality increases sharply with decrease in volatile acidity\n",
    "\n",
    "5. Quality increases with increase in citric acid\n",
    "\n",
    "6. Quality increases sharply with increase in alcohol. Alcohol is highly correlated with quality\n",
    "\n",
    "7. total sulfur dioxide is highly correlated with free sulfur dioxide\n",
    "\n",
    "8. fixed acidity is highly correlated with density and citric acid\n",
    "\n",
    "9. citric acid is inversely correlated with pH and volatile acidity\n",
    "\n",
    "10. We used 4 classification machine learning algorithms for the model prediction\n",
    "\n",
    "11. Random Forest classifier gives the highest accuracy of 88%\n",
    "\n",
    "12. Logistic Regression gives the accuracy of 83%\n",
    "\n",
    "13. Decision Tree gives the accuracy of 82.7%\n",
    "\n",
    "14. Naive Bayes gives 75% accuracy of the model\n",
    "\n",
    "15. We have also used feature scaling for standardizing the data to the same scale.\n",
    "\n",
    "16. We have viewed the results using classification report and the confusion matrix.\n"
   ]
  },
  {
   "cell_type": "markdown",
   "id": "dc3c0351",
   "metadata": {},
   "source": [
    "Wine Recommendation:\n",
    "\n",
    "Château Lafite Rothschild (Bordeaux, France)\n",
    "Domaine de la Romanée-Conti (Burgundy, France)\n",
    "Domaine Etienne Guigal (Rhone, France)"
   ]
  }
 ],
 "metadata": {
  "kernelspec": {
   "display_name": "Python 3",
   "language": "python",
   "name": "python3"
  },
  "language_info": {
   "codemirror_mode": {
    "name": "ipython",
    "version": 3
   },
   "file_extension": ".py",
   "mimetype": "text/x-python",
   "name": "python",
   "nbconvert_exporter": "python",
   "pygments_lexer": "ipython3",
   "version": "3.8.8"
  },
  "papermill": {
   "default_parameters": {},
   "duration": 22.29286,
   "end_time": "2021-10-23T08:18:51.838886",
   "environment_variables": {},
   "exception": null,
   "input_path": "__notebook__.ipynb",
   "output_path": "__notebook__.ipynb",
   "parameters": {},
   "start_time": "2021-10-23T08:18:29.546026",
   "version": "2.3.3"
  }
 },
 "nbformat": 4,
 "nbformat_minor": 5
}
